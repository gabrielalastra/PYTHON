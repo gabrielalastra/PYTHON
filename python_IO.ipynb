{
  "nbformat": 4,
  "nbformat_minor": 0,
  "metadata": {
    "colab": {
      "name": "python_IO.ipynb",
      "provenance": [],
      "authorship_tag": "ABX9TyNGs/SLjHoHOr/7huEHRwOx",
      "include_colab_link": true
    },
    "kernelspec": {
      "name": "python3",
      "display_name": "Python 3"
    }
  },
  "cells": [
    {
      "cell_type": "markdown",
      "metadata": {
        "id": "view-in-github",
        "colab_type": "text"
      },
      "source": [
        "<a href=\"https://colab.research.google.com/github/gabrielalastra/PYTHON/blob/master/python_IO.ipynb\" target=\"_parent\"><img src=\"https://colab.research.google.com/assets/colab-badge.svg\" alt=\"Open In Colab\"/></a>"
      ]
    },
    {
      "cell_type": "code",
      "metadata": {
        "colab": {
          "base_uri": "https://localhost:8080/"
        },
        "id": "foIl5Ag63VGv",
        "outputId": "f803c741-3154-4086-d4d9-60fd4350dd70"
      },
      "source": [
        "def multi(x,y):\n",
        "  return x*y\n",
        "\n",
        "a = float(input('digite o valor de A: '))\n",
        "b = float(input('digite o valor de B: '))\n",
        "\n",
        "m=multi(a,b)\n",
        "print(m)"
      ],
      "execution_count": null,
      "outputs": [
        {
          "output_type": "stream",
          "text": [
            "digite o valor de A: 33\n",
            "digite o valor de B: 334\n",
            "11022.0\n"
          ],
          "name": "stdout"
        }
      ]
    },
    {
      "cell_type": "code",
      "metadata": {
        "id": "0yz3_7x9kZX-"
      },
      "source": [
        "def media(v):\n",
        "  n=len(v)\n",
        "  i=0\n",
        "  soma=0.0\n",
        "  while(i<n):\n",
        "    soma+=v[i]\n",
        "    i+=1\n",
        "  return soma/n"
      ],
      "execution_count": null,
      "outputs": []
    },
    {
      "cell_type": "code",
      "metadata": {
        "id": "3eHJQC-ukvyR"
      },
      "source": [
        "def desviopadrao(v):\n",
        "  n=len(v)\n",
        "  i=0\n",
        "  soma=0.0\n",
        "  m=media(v)\n",
        "  while(i<n):\n",
        "    soma+=(v[i]-m)**2\n",
        "    i+=1\n",
        "  return (soma/(n-1))**0.5\n"
      ],
      "execution_count": null,
      "outputs": []
    },
    {
      "cell_type": "code",
      "metadata": {
        "colab": {
          "base_uri": "https://localhost:8080/"
        },
        "id": "-jjY1I4ElEzk",
        "outputId": "929b8ad7-4d2b-40e1-eae8-252094ee7744"
      },
      "source": [
        "def main():\n",
        "  x=[1,2,3,4]\n",
        "  print(media(x))\n",
        "  print(desviopadrao(x))\n",
        "main()"
      ],
      "execution_count": null,
      "outputs": [
        {
          "output_type": "stream",
          "text": [
            "2.5\n",
            "1.2909944487358056\n"
          ],
          "name": "stdout"
        }
      ]
    },
    {
      "cell_type": "code",
      "metadata": {
        "id": "1mKxYJH-lyZ9"
      },
      "source": [
        "#criando um vetor de 4 elementos \n",
        "def main():\n",
        "  x=[0,0,0,0]\n",
        "  x[0]=input('primeiro item')\n",
        "  x[1]=input('segundo item')\n",
        "  x[2]=input('terceiro item')\n",
        "  x[3]=input('quarto item')\n",
        "  return x\n",
        "main()"
      ],
      "execution_count": null,
      "outputs": []
    },
    {
      "cell_type": "code",
      "metadata": {
        "id": "pls5UUglmSq3"
      },
      "source": [
        "#funcao que le o vetor e imprime\n",
        "def leVetor():\n",
        "  n=int(input('tamanho do vetor: '))\n",
        "  i=0 #contador\n",
        "  a=[] #vetor vazio\n",
        "  while(i<n):\n",
        "    z=float(input('z: '))\n",
        "\n",
        "    a.append(z)\n",
        "    i +=1\n",
        "  return a\n",
        "\n",
        "\n",
        "def main():\n",
        "  a= leVetor()\n",
        "  print('a media do vetor é {}'.format(media(a)))\n",
        "  print('o desvio padrao do vetor é {}'.format(desviopadrao(a)))\n",
        "main()"
      ],
      "execution_count": null,
      "outputs": []
    },
    {
      "cell_type": "code",
      "metadata": {
        "id": "zItwwBfQqIpO"
      },
      "source": [
        "#funcao para ler o valor maximo\n",
        "def max(x):\n",
        "  n=len(v)\n",
        "  i=1\n",
        "  max=x[0]\n",
        "  while(i<n):\n",
        "    if (x[i]>max):\n",
        "      max=x[i]\n",
        "    i+=1\n",
        "  return max\n",
        "\n",
        "#posicao no vetor\n",
        "def imax(x):\n",
        "  n=len(v)\n",
        "  i=1\n",
        "  max=x[0]\n",
        "  while(i<n):\n",
        "    if (x[i]>max):\n",
        "      max=x[i]\n",
        "      imax=i\n",
        "    i+=1\n",
        "  return imax"
      ],
      "execution_count": null,
      "outputs": []
    },
    {
      "cell_type": "code",
      "metadata": {
        "id": "wT24oB3Xqk4b"
      },
      "source": [
        "#funcao para ler o valor minimo\n",
        "def min(x):\n",
        "  n=len(v)\n",
        "  i=1\n",
        "  min=x[0]\n",
        "  while(i<n):\n",
        "    if(x[i]<min):\n",
        "      min=x[i]\n",
        "    i+=1\n",
        "  return min\n",
        "\n",
        "#posicao no vetor\n",
        "def imin(x):\n",
        "  n=len(x)\n",
        "  i=1\n",
        "  imin=0\n",
        "  while(i<n):\n",
        "    if x[i]<imin:\n",
        "      imin=i\n",
        "    i+=1\n",
        "  return imin"
      ],
      "execution_count": null,
      "outputs": []
    },
    {
      "cell_type": "code",
      "metadata": {
        "id": "3cm61K-UrxZT"
      },
      "source": [
        "#funcao que le dois vetores\n",
        "def soma(v1,v2):\n",
        "  n=len(v1)\n",
        "  i=0\n",
        "  z=[]\n",
        "  while(i<n):\n",
        "    z.append(v1[i]+v2[i])\n",
        "    i+=1\n",
        "  return z \n"
      ],
      "execution_count": null,
      "outputs": []
    },
    {
      "cell_type": "code",
      "metadata": {
        "id": "2_UjdJ9_4JPE"
      },
      "source": [
        "#como fazer um menu\n",
        "\n",
        "def leOpcao():\n",
        "  return input('1:imprime \\n 2:media \\n 0:sair')\n",
        "\n",
        "def main():\n",
        "  c = leOpcao()\n",
        "  while(c!=0):\n",
        "    if(c==1): v=le"
      ],
      "execution_count": null,
      "outputs": []
    }
  ]
}