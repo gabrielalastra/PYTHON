{
  "nbformat": 4,
  "nbformat_minor": 0,
  "metadata": {
    "colab": {
      "name": "analysis_numpy2.ipynb",
      "provenance": [],
      "collapsed_sections": [],
      "authorship_tag": "ABX9TyPCQxrt7pe9Mb3v0cd2599R",
      "include_colab_link": true
    },
    "kernelspec": {
      "name": "python3",
      "display_name": "Python 3"
    }
  },
  "cells": [
    {
      "cell_type": "markdown",
      "metadata": {
        "id": "view-in-github",
        "colab_type": "text"
      },
      "source": [
        "<a href=\"https://colab.research.google.com/github/gabrielalastra/PYTHON/blob/master/analysis_numpy2.ipynb\" target=\"_parent\"><img src=\"https://colab.research.google.com/assets/colab-badge.svg\" alt=\"Open In Colab\"/></a>"
      ]
    },
    {
      "cell_type": "code",
      "metadata": {
        "id": "23m9u8LoSB05"
      },
      "source": [
        "import numpy as np\n"
      ],
      "execution_count": null,
      "outputs": []
    },
    {
      "cell_type": "markdown",
      "metadata": {
        "id": "QRnpc6t9-HNu"
      },
      "source": [
        "criando um arranjo com 10 elementos e todos zero."
      ]
    },
    {
      "cell_type": "code",
      "metadata": {
        "id": "E-AA5PvS-sn5"
      },
      "source": [
        "matrix1 = np.array([0]*10)"
      ],
      "execution_count": null,
      "outputs": []
    },
    {
      "cell_type": "code",
      "metadata": {
        "colab": {
          "base_uri": "https://localhost:8080/"
        },
        "id": "27iccEL-_Ycj",
        "outputId": "7a0334c4-3fd5-4fad-8347-aa7b6391cb25"
      },
      "source": [
        "matrix1"
      ],
      "execution_count": null,
      "outputs": [
        {
          "output_type": "execute_result",
          "data": {
            "text/plain": [
              "array([0, 0, 0, 0, 0, 0, 0, 0, 0, 0])"
            ]
          },
          "metadata": {
            "tags": []
          },
          "execution_count": 4
        }
      ]
    },
    {
      "cell_type": "markdown",
      "metadata": {
        "id": "RGn_18VmnSpc"
      },
      "source": [
        "matrix 2x2 com numeros 1"
      ]
    },
    {
      "cell_type": "code",
      "metadata": {
        "id": "jg5p1GdBnf9y"
      },
      "source": [
        "matrix2 = np.ones([2,2], dtype=np.int)"
      ],
      "execution_count": null,
      "outputs": []
    },
    {
      "cell_type": "code",
      "metadata": {
        "colab": {
          "base_uri": "https://localhost:8080/"
        },
        "id": "90APktVioEHu",
        "outputId": "6941ec86-9487-4878-902d-d97ed844d4e4"
      },
      "source": [
        "matrix2"
      ],
      "execution_count": null,
      "outputs": [
        {
          "output_type": "execute_result",
          "data": {
            "text/plain": [
              "array([[1, 1],\n",
              "       [1, 1]])"
            ]
          },
          "metadata": {
            "tags": []
          },
          "execution_count": 8
        }
      ]
    },
    {
      "cell_type": "code",
      "metadata": {
        "id": "DAYc4TDpoGaW"
      },
      "source": [
        "#criando matrix 2 linhas e 2 colunas \n",
        "s=(2,2)"
      ],
      "execution_count": null,
      "outputs": []
    },
    {
      "cell_type": "code",
      "metadata": {
        "colab": {
          "base_uri": "https://localhost:8080/"
        },
        "id": "Kw1ak92KoK37",
        "outputId": "589165c9-4fc3-41ed-e82d-5db0055c03a7"
      },
      "source": [
        "np.ones(s)"
      ],
      "execution_count": null,
      "outputs": [
        {
          "output_type": "execute_result",
          "data": {
            "text/plain": [
              "array([[1., 1.],\n",
              "       [1., 1.]])"
            ]
          },
          "metadata": {
            "tags": []
          },
          "execution_count": 10
        }
      ]
    },
    {
      "cell_type": "code",
      "metadata": {
        "id": "vm1K5lE3oP0H"
      },
      "source": [
        "b = np.ones(s, dtype=np.int)"
      ],
      "execution_count": null,
      "outputs": []
    },
    {
      "cell_type": "code",
      "metadata": {
        "colab": {
          "base_uri": "https://localhost:8080/"
        },
        "id": "KMY93hoDodr5",
        "outputId": "0b9a4bb0-e04b-4d2a-ab3d-c67528eec0a1"
      },
      "source": [
        "b"
      ],
      "execution_count": null,
      "outputs": [
        {
          "output_type": "execute_result",
          "data": {
            "text/plain": [
              "array([[1, 1],\n",
              "       [1, 1]])"
            ]
          },
          "metadata": {
            "tags": []
          },
          "execution_count": 14
        }
      ]
    },
    {
      "cell_type": "code",
      "metadata": {
        "id": "5zp-pe4forlq"
      },
      "source": [
        "#matrix de 1 com 3x2 e numeros quebrados\n",
        "matrix3 = np.ones([3,2], dtype=np.float)"
      ],
      "execution_count": null,
      "outputs": []
    },
    {
      "cell_type": "code",
      "metadata": {
        "colab": {
          "base_uri": "https://localhost:8080/"
        },
        "id": "Lt0el_BwpUYY",
        "outputId": "e71e272b-45bf-427c-90e4-2372656394ce"
      },
      "source": [
        "matrix3"
      ],
      "execution_count": null,
      "outputs": [
        {
          "output_type": "execute_result",
          "data": {
            "text/plain": [
              "array([[1., 1.],\n",
              "       [1., 1.],\n",
              "       [1., 1.]])"
            ]
          },
          "metadata": {
            "tags": []
          },
          "execution_count": 16
        }
      ]
    },
    {
      "cell_type": "code",
      "metadata": {
        "id": "L-8aBvIxpj3Z"
      },
      "source": [
        "#vetor de 5 a 10 indo de 2 tipo inteiro\n",
        "x = np.arange(5,10,2, dtype=np.int)"
      ],
      "execution_count": null,
      "outputs": []
    },
    {
      "cell_type": "code",
      "metadata": {
        "colab": {
          "base_uri": "https://localhost:8080/"
        },
        "id": "FH5yrN9kqACC",
        "outputId": "d864a5b4-b83e-447d-933b-32205da3fd38"
      },
      "source": [
        "x"
      ],
      "execution_count": null,
      "outputs": [
        {
          "output_type": "execute_result",
          "data": {
            "text/plain": [
              "array([5, 7, 9])"
            ]
          },
          "metadata": {
            "tags": []
          },
          "execution_count": 22
        }
      ]
    },
    {
      "cell_type": "code",
      "metadata": {
        "colab": {
          "base_uri": "https://localhost:8080/"
        },
        "id": "R1rySXxgqLoN",
        "outputId": "ded696c1-6273-443e-fa4d-290822d44b21"
      },
      "source": [
        "#transformar x em vetor de 1\n",
        "np.ones_like(x)"
      ],
      "execution_count": null,
      "outputs": [
        {
          "output_type": "execute_result",
          "data": {
            "text/plain": [
              "array([1, 1, 1])"
            ]
          },
          "metadata": {
            "tags": []
          },
          "execution_count": 21
        }
      ]
    },
    {
      "cell_type": "code",
      "metadata": {
        "colab": {
          "base_uri": "https://localhost:8080/"
        },
        "id": "BQOOPvVSqX1K",
        "outputId": "db97291b-7272-44e0-a123-e0f383712297"
      },
      "source": [
        "#transformar x em vetor de 5\n",
        "np.ones_like(x) *5"
      ],
      "execution_count": null,
      "outputs": [
        {
          "output_type": "execute_result",
          "data": {
            "text/plain": [
              "array([5, 5, 5])"
            ]
          },
          "metadata": {
            "tags": []
          },
          "execution_count": 23
        }
      ]
    },
    {
      "cell_type": "code",
      "metadata": {
        "colab": {
          "base_uri": "https://localhost:8080/"
        },
        "id": "Q9a6DZTFqsyc",
        "outputId": "347c269a-75e9-4d42-ea8d-2cbf33dc61d9"
      },
      "source": [
        "#criar y\n",
        "y = np.array([[2,3], [6,3]], dtype=np.int)\n",
        "y"
      ],
      "execution_count": null,
      "outputs": [
        {
          "output_type": "execute_result",
          "data": {
            "text/plain": [
              "array([[2, 3],\n",
              "       [6, 3]])"
            ]
          },
          "metadata": {
            "tags": []
          },
          "execution_count": 25
        }
      ]
    },
    {
      "cell_type": "code",
      "metadata": {
        "colab": {
          "base_uri": "https://localhost:8080/"
        },
        "id": "V_bL217trByV",
        "outputId": "e5e2cc97-9495-4103-9c85-be32089be165"
      },
      "source": [
        "#transformar em matrix de 7\n",
        "np.ones_like(y) *7"
      ],
      "execution_count": null,
      "outputs": [
        {
          "output_type": "execute_result",
          "data": {
            "text/plain": [
              "array([[7, 7],\n",
              "       [7, 7]])"
            ]
          },
          "metadata": {
            "tags": []
          },
          "execution_count": 26
        }
      ]
    },
    {
      "cell_type": "markdown",
      "metadata": {
        "id": "ABCjLgF3rVDi"
      },
      "source": [
        "criando uma matrix 3x3 com 1 na diagonal e o resto zero"
      ]
    },
    {
      "cell_type": "code",
      "metadata": {
        "colab": {
          "base_uri": "https://localhost:8080/"
        },
        "id": "eed4HxbWrUkQ",
        "outputId": "0fe8a88c-2be2-4ef5-965b-2a25bd874b2c"
      },
      "source": [
        "A1=np.eye(3)\n",
        "A1 "
      ],
      "execution_count": null,
      "outputs": [
        {
          "output_type": "execute_result",
          "data": {
            "text/plain": [
              "array([[1., 0., 0.],\n",
              "       [0., 1., 0.],\n",
              "       [0., 0., 1.]])"
            ]
          },
          "metadata": {
            "tags": []
          },
          "execution_count": 31
        }
      ]
    },
    {
      "cell_type": "code",
      "metadata": {
        "colab": {
          "base_uri": "https://localhost:8080/"
        },
        "id": "zoE2_NrGrhgl",
        "outputId": "f4534cb9-8f93-4bac-880d-504af6f7a278"
      },
      "source": [
        "A2 = np.identity((3), dtype=np.int)\n",
        "A2"
      ],
      "execution_count": null,
      "outputs": [
        {
          "output_type": "execute_result",
          "data": {
            "text/plain": [
              "array([[1, 0, 0],\n",
              "       [0, 1, 0],\n",
              "       [0, 0, 1]])"
            ]
          },
          "metadata": {
            "tags": []
          },
          "execution_count": 30
        }
      ]
    },
    {
      "cell_type": "code",
      "metadata": {
        "colab": {
          "base_uri": "https://localhost:8080/"
        },
        "id": "IlrL4i8wr3Re",
        "outputId": "c599e11b-f075-4d07-8b2e-3b939a616cb8"
      },
      "source": [
        "#matriz 2x4 com numeros randoms de 5 a 10 \n",
        "\n",
        "A3 = np.random.randint(5,10, size=(2,4))\n",
        "A3"
      ],
      "execution_count": null,
      "outputs": [
        {
          "output_type": "execute_result",
          "data": {
            "text/plain": [
              "array([[6, 5, 5, 8],\n",
              "       [9, 6, 6, 6]])"
            ]
          },
          "metadata": {
            "tags": []
          },
          "execution_count": 34
        }
      ]
    },
    {
      "cell_type": "code",
      "metadata": {
        "colab": {
          "base_uri": "https://localhost:8080/"
        },
        "id": "zKKJJghosqv-",
        "outputId": "54f31e42-5e76-4a61-8b50-cf6062b7fa35"
      },
      "source": [
        "#matrix 3x3x3 com numeros randoms float\n",
        "\n",
        "A4 = np.random.randn(3,3,3)\n",
        "A4"
      ],
      "execution_count": null,
      "outputs": [
        {
          "output_type": "execute_result",
          "data": {
            "text/plain": [
              "array([[[-0.86639905,  0.86917958, -1.41599504],\n",
              "        [ 1.68035103, -1.80689076,  1.45273833],\n",
              "        [ 1.22003221,  0.47756285,  0.70053427]],\n",
              "\n",
              "       [[ 0.39311926, -0.66473049, -0.76229491],\n",
              "        [ 0.0777149 ,  1.35316785, -0.86414804],\n",
              "        [ 0.5443623 , -2.24891306,  0.35583816]],\n",
              "\n",
              "       [[-0.24631818,  0.69835108, -0.6000114 ],\n",
              "        [-0.17187015,  0.05516954,  1.9413723 ],\n",
              "        [-0.00253429,  1.09364675, -0.58812932]]])"
            ]
          },
          "metadata": {
            "tags": []
          },
          "execution_count": 39
        }
      ]
    },
    {
      "cell_type": "code",
      "metadata": {
        "colab": {
          "base_uri": "https://localhost:8080/"
        },
        "id": "s2F59S3Ws9J9",
        "outputId": "5310b361-6721-44db-914a-a24f41c3e7d3"
      },
      "source": [
        "#converter uma lista python X em um vetor numpy\n",
        "a = [1,2,2]\n",
        "print(a, type(a), id(a))"
      ],
      "execution_count": null,
      "outputs": [
        {
          "output_type": "stream",
          "text": [
            "[1, 2, 2] <class 'list'> 140648791596488\n"
          ],
          "name": "stdout"
        }
      ]
    },
    {
      "cell_type": "code",
      "metadata": {
        "colab": {
          "base_uri": "https://localhost:8080/"
        },
        "id": "yKrWocQHuJF8",
        "outputId": "a22019d6-dca4-4db1-d907-49287a72bd6d"
      },
      "source": [
        "b = np.array(a)\n",
        "print(b, type(b), id(b))\n",
        "\n",
        "#ID diferentes"
      ],
      "execution_count": null,
      "outputs": [
        {
          "output_type": "stream",
          "text": [
            "[1 2 2] <class 'numpy.ndarray'> 140648791891200\n"
          ],
          "name": "stdout"
        }
      ]
    },
    {
      "cell_type": "code",
      "metadata": {
        "colab": {
          "base_uri": "https://localhost:8080/"
        },
        "id": "pwfPzCW0uR0W",
        "outputId": "f449ea61-a5eb-46cf-993a-46e475ae5aec"
      },
      "source": [
        "#vetor de 1 a 10 somente os numeros impares\n",
        "c = np.arange(1,11,2)\n",
        "c"
      ],
      "execution_count": null,
      "outputs": [
        {
          "output_type": "execute_result",
          "data": {
            "text/plain": [
              "array([1, 3, 5, 7, 9])"
            ]
          },
          "metadata": {
            "tags": []
          },
          "execution_count": 46
        }
      ]
    },
    {
      "cell_type": "code",
      "metadata": {
        "colab": {
          "base_uri": "https://localhost:8080/"
        },
        "id": "zbAjy6-qvLHO",
        "outputId": "8d3544d6-3156-42e0-8d2b-6e067ee11a9a"
      },
      "source": [
        "#vetor de 10 a 1 em ordem decrescente\n",
        "np.arange(1,11)[::-1]"
      ],
      "execution_count": null,
      "outputs": [
        {
          "output_type": "execute_result",
          "data": {
            "text/plain": [
              "array([10,  9,  8,  7,  6,  5,  4,  3,  2,  1])"
            ]
          },
          "metadata": {
            "tags": []
          },
          "execution_count": 49
        }
      ]
    },
    {
      "cell_type": "code",
      "metadata": {
        "colab": {
          "base_uri": "https://localhost:8080/"
        },
        "id": "h64zEP6AvcKO",
        "outputId": "b6a8c9c2-cf2e-4cdd-c91f-6c8f066f2474"
      },
      "source": [
        "#matrix 3x3 indo de 0 a 8\n",
        "np.arange(9).reshape(3,3)"
      ],
      "execution_count": null,
      "outputs": [
        {
          "output_type": "execute_result",
          "data": {
            "text/plain": [
              "array([[0, 1, 2],\n",
              "       [3, 4, 5],\n",
              "       [6, 7, 8]])"
            ]
          },
          "metadata": {
            "tags": []
          },
          "execution_count": 50
        }
      ]
    },
    {
      "cell_type": "code",
      "metadata": {
        "colab": {
          "base_uri": "https://localhost:8080/"
        },
        "id": "IoOfYC1svroC",
        "outputId": "c9c59ab6-5808-4d8a-c0b8-8b17c0d32f02"
      },
      "source": [
        "#mostrar a matrix 10x10 e o espaco em bytes que ocupa\n",
        "z= np.zeros((10,10))\n",
        "print(\"%d bytes\" %(z.size*z.itemsize))\n",
        "print(z)"
      ],
      "execution_count": null,
      "outputs": [
        {
          "output_type": "stream",
          "text": [
            "800 bytes\n",
            "[[0. 0. 0. 0. 0. 0. 0. 0. 0. 0.]\n",
            " [0. 0. 0. 0. 0. 0. 0. 0. 0. 0.]\n",
            " [0. 0. 0. 0. 0. 0. 0. 0. 0. 0.]\n",
            " [0. 0. 0. 0. 0. 0. 0. 0. 0. 0.]\n",
            " [0. 0. 0. 0. 0. 0. 0. 0. 0. 0.]\n",
            " [0. 0. 0. 0. 0. 0. 0. 0. 0. 0.]\n",
            " [0. 0. 0. 0. 0. 0. 0. 0. 0. 0.]\n",
            " [0. 0. 0. 0. 0. 0. 0. 0. 0. 0.]\n",
            " [0. 0. 0. 0. 0. 0. 0. 0. 0. 0.]\n",
            " [0. 0. 0. 0. 0. 0. 0. 0. 0. 0.]]\n"
          ],
          "name": "stdout"
        }
      ]
    },
    {
      "cell_type": "code",
      "metadata": {
        "colab": {
          "base_uri": "https://localhost:8080/"
        },
        "id": "SSW5PLZswPEF",
        "outputId": "3aaa7945-630f-4083-83a0-511fdb39c274"
      },
      "source": [
        "x1 = np.array(['A','B','C','D','E'])\n",
        "#mostre o primeiro elemento\n",
        "print('o primeiro elemento de x1 é', x1[0])\n",
        "#mostre o ultimio\n",
        "print('o utlimo elemento de x1 é', x1[-1])"
      ],
      "execution_count": null,
      "outputs": [
        {
          "output_type": "stream",
          "text": [
            "o primeiro elemento de x1 é A\n",
            "o utlimo elemento de x1 é E\n"
          ],
          "name": "stdout"
        }
      ]
    },
    {
      "cell_type": "code",
      "metadata": {
        "colab": {
          "base_uri": "https://localhost:8080/"
        },
        "id": "MtHDakFvyVIL",
        "outputId": "640465b6-11f9-4229-8862-4e910d7fa20e"
      },
      "source": [
        "#mostrar em ordem decrescente\n",
        "x1[::-1]"
      ],
      "execution_count": null,
      "outputs": [
        {
          "output_type": "execute_result",
          "data": {
            "text/plain": [
              "array(['E', 'D', 'C', 'B', 'A'], dtype='<U1')"
            ]
          },
          "metadata": {
            "tags": []
          },
          "execution_count": 65
        }
      ]
    },
    {
      "cell_type": "code",
      "metadata": {
        "colab": {
          "base_uri": "https://localhost:8080/"
        },
        "id": "TUNsJd64yq8B",
        "outputId": "5abb9993-06aa-49f8-c687-46a14690664e"
      },
      "source": [
        "#mostrar os elementos na posicao impar\n",
        "x1[::2]"
      ],
      "execution_count": null,
      "outputs": [
        {
          "output_type": "execute_result",
          "data": {
            "text/plain": [
              "array(['A', 'C', 'E'], dtype='<U1')"
            ]
          },
          "metadata": {
            "tags": []
          },
          "execution_count": 66
        }
      ]
    },
    {
      "cell_type": "code",
      "metadata": {
        "id": "hB9gXm59yzvt"
      },
      "source": [
        "#matrix 4x4 com elementos de 0 a 3\n",
        "x2 = np.arange(16).reshape(4,4)\n",
        "print('a primeira linha de x2 é', x2[0])\n",
        "print('a ultima linha de x2 é', x2[-1])\n",
        "print('\\n', x2)\n",
        "\n"
      ],
      "execution_count": null,
      "outputs": []
    },
    {
      "cell_type": "code",
      "metadata": {
        "colab": {
          "base_uri": "https://localhost:8080/"
        },
        "id": "da_iQHJz0kZ1",
        "outputId": "c4ab6efd-15e0-4377-b643-cb6bc316ad4f"
      },
      "source": [
        "#criando a mesma matrix 4x4 mas comecando em 1\n",
        "x3 = np.arange(1,17).reshape(4,4)\n",
        "print('a primeira linha de x3 é', x3[0])\n",
        "print('o primeiro elemento de x3 é', x3[0,0])\n",
        "\n",
        "#os elementos do meio da matrix\n",
        "print('\\n', x3[1:-1,1:-1])\n",
        "\n",
        "print('\\n', x3)"
      ],
      "execution_count": null,
      "outputs": [
        {
          "output_type": "stream",
          "text": [
            "a primeira linha de x3 é [1 2 3 4]\n",
            "o primeiro elemento de x3 é 1\n",
            "\n",
            " [[ 6  7]\n",
            " [10 11]]\n",
            "\n",
            " [[ 1  2  3  4]\n",
            " [ 5  6  7  8]\n",
            " [ 9 10 11 12]\n",
            " [13 14 15 16]]\n"
          ],
          "name": "stdout"
        }
      ]
    },
    {
      "cell_type": "code",
      "metadata": {
        "colab": {
          "base_uri": "https://localhost:8080/"
        },
        "id": "OhRVkewM2LT3",
        "outputId": "75d09a5a-4a8c-44b1-e114-1a7bc39fb225"
      },
      "source": [
        "#os primeiros dois elementos x,y da matrix x3\n",
        "x3[0:2,0:2]"
      ],
      "execution_count": null,
      "outputs": [
        {
          "output_type": "execute_result",
          "data": {
            "text/plain": [
              "array([[1, 2],\n",
              "       [5, 6]])"
            ]
          },
          "metadata": {
            "tags": []
          },
          "execution_count": 91
        }
      ]
    },
    {
      "cell_type": "markdown",
      "metadata": {
        "id": "pXoIuQcE2ppU"
      },
      "source": [
        "manipulação de matrix"
      ]
    },
    {
      "cell_type": "code",
      "metadata": {
        "colab": {
          "base_uri": "https://localhost:8080/"
        },
        "id": "5iLGvH5L2hq0",
        "outputId": "e13ec62f-44ca-40b8-9301-dfe326323531"
      },
      "source": [
        "#convertendo o tipo de dados em float\n",
        "x4 = np.array(x3, np.float)\n",
        "#invertendo os dados da matrix x3 e salvando em nova matrix\n",
        "x4 = x3[::-1]\n",
        "x4"
      ],
      "execution_count": null,
      "outputs": [
        {
          "output_type": "execute_result",
          "data": {
            "text/plain": [
              "array([[13, 14, 15, 16],\n",
              "       [ 9, 10, 11, 12],\n",
              "       [ 5,  6,  7,  8],\n",
              "       [ 1,  2,  3,  4]])"
            ]
          },
          "metadata": {
            "tags": []
          },
          "execution_count": 94
        }
      ]
    },
    {
      "cell_type": "code",
      "metadata": {
        "colab": {
          "base_uri": "https://localhost:8080/"
        },
        "id": "FGdUCjsV3K57",
        "outputId": "7378ee9f-3c8f-4147-b3aa-288de4ebde17"
      },
      "source": [
        "#ordenando novamente a matrix\n",
        "x4.sort()\n",
        "#alterando um valor da matrix, lembrando que conta 0\n",
        "#se nao contasse a posicao 70 seria (3,4)\n",
        "x4[2,3] = 70\n",
        "x4[0,0] = 0\n",
        "x4"
      ],
      "execution_count": null,
      "outputs": [
        {
          "output_type": "execute_result",
          "data": {
            "text/plain": [
              "array([[ 0,  2,  3,  4],\n",
              "       [ 5,  6,  7,  8],\n",
              "       [ 9, 10, 11, 70],\n",
              "       [13, 14, 15, 16]])"
            ]
          },
          "metadata": {
            "tags": []
          },
          "execution_count": 106
        }
      ]
    },
    {
      "cell_type": "code",
      "metadata": {
        "colab": {
          "base_uri": "https://localhost:8080/"
        },
        "id": "YPkfgGKy3063",
        "outputId": "edfeba87-5a98-406f-864d-5c4d4b1d0b53"
      },
      "source": [
        "#adicionar 5 em todos os elementos de x4\n",
        "x4 +5 #pra salvar precisa x5 = x4+5 "
      ],
      "execution_count": null,
      "outputs": [
        {
          "output_type": "execute_result",
          "data": {
            "text/plain": [
              "array([[ 5,  7,  8,  9],\n",
              "       [10, 11, 12, 13],\n",
              "       [14, 15, 16, 75],\n",
              "       [18, 19, 20, 21]])"
            ]
          },
          "metadata": {
            "tags": []
          },
          "execution_count": 107
        }
      ]
    },
    {
      "cell_type": "markdown",
      "metadata": {
        "id": "cCF5LX-S7Q5S"
      },
      "source": [
        "matrix boleanas (also called masks)"
      ]
    },
    {
      "cell_type": "code",
      "metadata": {
        "colab": {
          "base_uri": "https://localhost:8080/"
        },
        "id": "z_7_CSAz7QUV",
        "outputId": "ea478dc4-1be8-4251-bccc-e588c73bf90a"
      },
      "source": [
        "X22 = np.array([\n",
        "    [-1,   2,  3,  4],\n",
        "    [5,   -6,  7,  8],\n",
        "    [9,  10, -11, 12],\n",
        "    [13, 14, 15, -16]\n",
        "])\n",
        "mask = X22 <= 0\n",
        "mask"
      ],
      "execution_count": null,
      "outputs": [
        {
          "output_type": "execute_result",
          "data": {
            "text/plain": [
              "array([[ True, False, False, False],\n",
              "       [False,  True, False, False],\n",
              "       [False, False,  True, False],\n",
              "       [False, False, False,  True]])"
            ]
          },
          "metadata": {
            "tags": []
          },
          "execution_count": 120
        }
      ]
    },
    {
      "cell_type": "code",
      "metadata": {
        "id": "zVMRUrA18EQq"
      },
      "source": [
        "X = np.array([-1,2,0,-4,5,6,0,0,-9,10])\n",
        "\n",
        "#mostra os valores negativos\n",
        "mask = X <= 0\n",
        "print('Os valores negativos de X são \\n', X[mask])\n",
        "\n",
        "#mostra os elementos = 2 ou 10 \n",
        "mask = (X == 2) | (X == 10)\n",
        "print('os elementos iguais a 2 e 10 são \\n', mask, '\\n', X[mask], '\\n')\n"
      ],
      "execution_count": null,
      "outputs": []
    },
    {
      "cell_type": "markdown",
      "metadata": {
        "id": "sOgQGNOo-03X"
      },
      "source": [
        "Lógica de funções"
      ]
    },
    {
      "cell_type": "code",
      "metadata": {
        "colab": {
          "base_uri": "https://localhost:8080/"
        },
        "id": "y3nip-N--4BL",
        "outputId": "6cc44a2c-0863-4be1-e1e0-4cba73e948b7"
      },
      "source": [
        "matrix4 = np.array([\n",
        "                    [1, -2, 4, 5],\n",
        "                    [3, 70, 60, 60],\n",
        "                    [0, -4598, -12038, 323891] \n",
        "])\n",
        "\n",
        "#return true if none of its elements is zero \n",
        "matrix4.all()\n"
      ],
      "execution_count": null,
      "outputs": [
        {
          "output_type": "execute_result",
          "data": {
            "text/plain": [
              "False"
            ]
          },
          "metadata": {
            "tags": []
          },
          "execution_count": 145
        }
      ]
    },
    {
      "cell_type": "code",
      "metadata": {
        "colab": {
          "base_uri": "https://localhost:8080/"
        },
        "id": "NKMkgFnXCME5",
        "outputId": "55772b47-737e-4f7f-ec95-763ad8e9f3ef"
      },
      "source": [
        "#True if any of its elements is zero\n",
        "matrix4.any()"
      ],
      "execution_count": null,
      "outputs": [
        {
          "output_type": "execute_result",
          "data": {
            "text/plain": [
              "True"
            ]
          },
          "metadata": {
            "tags": []
          },
          "execution_count": 147
        }
      ]
    },
    {
      "cell_type": "code",
      "metadata": {
        "colab": {
          "base_uri": "https://localhost:8080/"
        },
        "id": "A9HxrxxbCX8s",
        "outputId": "cf1cbdfe-9bcf-4f6c-f336-272273bcd9e2"
      },
      "source": [
        "#soma dos elementos por coluna\n",
        "matrix4.sum(axis=0)"
      ],
      "execution_count": null,
      "outputs": [
        {
          "output_type": "execute_result",
          "data": {
            "text/plain": [
              "array([     4,  -4530, -11974, 323956])"
            ]
          },
          "metadata": {
            "tags": []
          },
          "execution_count": 157
        }
      ]
    },
    {
      "cell_type": "code",
      "metadata": {
        "colab": {
          "base_uri": "https://localhost:8080/"
        },
        "id": "GRdpFccuD7_K",
        "outputId": "e4dfd5bc-50e6-43ba-8d8f-e264712cded1"
      },
      "source": [
        "#soma dos elementos por linha\n",
        "matrix4.sum(axis=1)"
      ],
      "execution_count": null,
      "outputs": [
        {
          "output_type": "execute_result",
          "data": {
            "text/plain": [
              "array([     8,    193, 307255])"
            ]
          },
          "metadata": {
            "tags": []
          },
          "execution_count": 158
        }
      ]
    },
    {
      "cell_type": "code",
      "metadata": {
        "colab": {
          "base_uri": "https://localhost:8080/"
        },
        "id": "PxaCWfP9CkEd",
        "outputId": "fb2b992d-4b90-4aa2-d02b-e887602d4c60"
      },
      "source": [
        "#media por coluna e axis =1 eh por linha\n",
        "matrix4.mean(axis=0)"
      ],
      "execution_count": null,
      "outputs": [
        {
          "output_type": "execute_result",
          "data": {
            "text/plain": [
              "array([ 1.33333333e+00, -1.51000000e+03, -3.99133333e+03,  1.07985333e+05])"
            ]
          },
          "metadata": {
            "tags": []
          },
          "execution_count": 159
        }
      ]
    },
    {
      "cell_type": "code",
      "metadata": {
        "colab": {
          "base_uri": "https://localhost:8080/"
        },
        "id": "QfODBGjiEQwT",
        "outputId": "6b045246-c326-4b5b-af54-6155b4a619de"
      },
      "source": [
        "#valor maximo da matrix\n",
        "matrix4.max()"
      ],
      "execution_count": null,
      "outputs": [
        {
          "output_type": "execute_result",
          "data": {
            "text/plain": [
              "323891"
            ]
          },
          "metadata": {
            "tags": []
          },
          "execution_count": 160
        }
      ]
    },
    {
      "cell_type": "markdown",
      "metadata": {
        "id": "MwOnBjZe-2wK"
      },
      "source": [
        ""
      ]
    }
  ]
}