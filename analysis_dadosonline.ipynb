{
  "nbformat": 4,
  "nbformat_minor": 0,
  "metadata": {
    "colab": {
      "name": "analysis_dadosonline.ipynb",
      "provenance": [],
      "authorship_tag": "ABX9TyODO/gGRsz/CGhcEtDrXZkj",
      "include_colab_link": true
    },
    "kernelspec": {
      "name": "python3",
      "display_name": "Python 3"
    }
  },
  "cells": [
    {
      "cell_type": "markdown",
      "metadata": {
        "id": "view-in-github",
        "colab_type": "text"
      },
      "source": [
        "<a href=\"https://colab.research.google.com/github/gabrielalastra/PYTHON/blob/master/analysis_dadosonline.ipynb\" target=\"_parent\"><img src=\"https://colab.research.google.com/assets/colab-badge.svg\" alt=\"Open In Colab\"/></a>"
      ]
    },
    {
      "cell_type": "code",
      "metadata": {
        "id": "5AsJkBC_1uP5"
      },
      "source": [
        "#importando bibliotecas para dados na web\n",
        "import requests\n",
        "import pandas as pd\n"
      ],
      "execution_count": null,
      "outputs": []
    },
    {
      "cell_type": "code",
      "metadata": {
        "id": "-dIgJRw02XjA"
      },
      "source": [
        "#funcao que simplifica o processo de importar dados do Cryptowatch\n",
        "#ref da funcao em https://github.com/cryptowatch/cw-sdk-python \n",
        "#va em https://docs.cryptowat.ch/rest-api/#ohlc para o dado publico\n",
        "\n",
        "def get_historic_price(symbol, exchange='bitfinex', after='2018-09-01'):\n",
        "    url = 'https://api.cryptowat.ch/markets/{exchange}/{symbol}usd/ohlc'.format(\n",
        "        symbol=symbol, exchange=exchange)\n",
        "    resp = requests.get(url, params={\n",
        "        'periods': '3600',\n",
        "        'after': str(int(pd.Timestamp(after).timestamp()))\n",
        "    })\n",
        "    resp.raise_for_status()\n",
        "    data = resp.json()\n",
        "    df = pd.DataFrame(data['result']['3600'], columns=[\n",
        "        'CloseTime', 'OpenPrice', 'HighPrice', 'LowPrice', 'ClosePrice', 'Volume', 'NA'\n",
        "    ])\n",
        "    df['CloseTime'] = pd.to_datetime(df['CloseTime'], unit='s')\n",
        "    df.set_index('CloseTime', inplace=True)\n",
        "    return df"
      ],
      "execution_count": null,
      "outputs": []
    },
    {
      "cell_type": "code",
      "metadata": {
        "colab": {
          "base_uri": "https://localhost:8080/"
        },
        "id": "goKqgnfp3IY9",
        "outputId": "d7f0178f-95f8-4539-ee11-e6f4ce5ecfb4"
      },
      "source": [
        "#recortar o data das cryptomoedas bitcoin e ether para os ultimos 7 dias\n",
        "\n",
        "last_week = (pd.Timestamp.now() - pd.offsets.Day(7))\n",
        "last_week"
      ],
      "execution_count": null,
      "outputs": [
        {
          "output_type": "execute_result",
          "data": {
            "text/plain": [
              "Timestamp('2021-02-09 13:43:20.370855')"
            ]
          },
          "metadata": {
            "tags": []
          },
          "execution_count": 8
        }
      ]
    },
    {
      "cell_type": "code",
      "metadata": {
        "id": "uVEAnHdi363V"
      },
      "source": [
        "#definindo a variavel bit como historico de preco da ultima semana\n",
        "bit = get_historic_price('btc', 'bitstamp', after=last_week)"
      ],
      "execution_count": null,
      "outputs": []
    },
    {
      "cell_type": "code",
      "metadata": {
        "id": "5vjcHrev4V-e"
      },
      "source": [
        "#definindo a variavel ether como historico de preco da ultima semana\n",
        "eth = get_historic_price('eth', 'bitstamp', after=last_week)"
      ],
      "execution_count": null,
      "outputs": []
    },
    {
      "cell_type": "code",
      "metadata": {
        "id": "fM9Eybaw4kAo"
      },
      "source": [
        "#visualizacao em excel\n",
        "bit.head()"
      ],
      "execution_count": null,
      "outputs": []
    },
    {
      "cell_type": "code",
      "metadata": {
        "id": "4xI16Iy543z-"
      },
      "source": [
        "bit['ClosePrice'].plot(figsize=(15,7))"
      ],
      "execution_count": null,
      "outputs": []
    },
    {
      "cell_type": "code",
      "metadata": {
        "id": "zqh0baUc5HwB"
      },
      "source": [
        "#visualizacao ether\n",
        "eth.head()"
      ],
      "execution_count": null,
      "outputs": []
    },
    {
      "cell_type": "code",
      "metadata": {
        "id": "5Ruo84CD5NG4"
      },
      "source": [
        "eth['ClosePrice'].plot(figsize=(15,7))"
      ],
      "execution_count": null,
      "outputs": []
    },
    {
      "cell_type": "code",
      "metadata": {
        "id": "W4BNPCGx5UUt"
      },
      "source": [
        "#biblioteca para mapas interativos\n",
        "from bokeh.plotting import figure, output_file, show\n",
        "from bokeh.io import output_notebook"
      ],
      "execution_count": null,
      "outputs": []
    },
    {
      "cell_type": "code",
      "metadata": {
        "id": "oR8xRRPj7vsP"
      },
      "source": [
        "output_notebook()"
      ],
      "execution_count": null,
      "outputs": []
    },
    {
      "cell_type": "code",
      "metadata": {
        "colab": {
          "base_uri": "https://localhost:8080/",
          "height": 634
        },
        "id": "sE2NrV018A-1",
        "outputId": "acc3c10d-8263-47bd-9c19-2bb4d0a8f0c1"
      },
      "source": [
        "#para visualizar a variacao do bitcoin com possibilidade de zoom\n",
        "x1 = figure(x_axis_type='datetime', title='Crypto Prices', width=800)\n",
        "x1.grid.grid_line_alpha=0.3\n",
        "x1.xaxis.axis_label = 'Date'\n",
        "x1.yaxis.axis_label = 'Price'\n",
        "\n",
        "#a moeda esta definida para a ultima semana\n",
        "x1.line(bit.index, bit['ClosePrice'], color='#f2a900', legend='Bitcoin')\n",
        "\n",
        "x1.legend.location = 'top_left'\n",
        "show(x1)"
      ],
      "execution_count": null,
      "outputs": [
        {
          "output_type": "stream",
          "text": [
            "BokehDeprecationWarning: 'legend' keyword is deprecated, use explicit 'legend_label', 'legend_field', or 'legend_group' keywords instead\n"
          ],
          "name": "stderr"
        },
        {
          "output_type": "display_data",
          "data": {
            "application/javascript": [
              "\n",
              "(function(root) {\n",
              "  function now() {\n",
              "    return new Date();\n",
              "  }\n",
              "\n",
              "  var force = true;\n",
              "\n",
              "  if (typeof root._bokeh_onload_callbacks === \"undefined\" || force === true) {\n",
              "    root._bokeh_onload_callbacks = [];\n",
              "    root._bokeh_is_loading = undefined;\n",
              "  }\n",
              "\n",
              "  var JS_MIME_TYPE = 'application/javascript';\n",
              "  var HTML_MIME_TYPE = 'text/html';\n",
              "  var EXEC_MIME_TYPE = 'application/vnd.bokehjs_exec.v0+json';\n",
              "  var CLASS_NAME = 'output_bokeh rendered_html';\n",
              "\n",
              "  /**\n",
              "   * Render data to the DOM node\n",
              "   */\n",
              "  function render(props, node) {\n",
              "    var script = document.createElement(\"script\");\n",
              "    node.appendChild(script);\n",
              "  }\n",
              "\n",
              "  /**\n",
              "   * Handle when an output is cleared or removed\n",
              "   */\n",
              "  function handleClearOutput(event, handle) {\n",
              "    var cell = handle.cell;\n",
              "\n",
              "    var id = cell.output_area._bokeh_element_id;\n",
              "    var server_id = cell.output_area._bokeh_server_id;\n",
              "    // Clean up Bokeh references\n",
              "    if (id != null && id in Bokeh.index) {\n",
              "      Bokeh.index[id].model.document.clear();\n",
              "      delete Bokeh.index[id];\n",
              "    }\n",
              "\n",
              "    if (server_id !== undefined) {\n",
              "      // Clean up Bokeh references\n",
              "      var cmd = \"from bokeh.io.state import curstate; print(curstate().uuid_to_server['\" + server_id + \"'].get_sessions()[0].document.roots[0]._id)\";\n",
              "      cell.notebook.kernel.execute(cmd, {\n",
              "        iopub: {\n",
              "          output: function(msg) {\n",
              "            var id = msg.content.text.trim();\n",
              "            if (id in Bokeh.index) {\n",
              "              Bokeh.index[id].model.document.clear();\n",
              "              delete Bokeh.index[id];\n",
              "            }\n",
              "          }\n",
              "        }\n",
              "      });\n",
              "      // Destroy server and session\n",
              "      var cmd = \"import bokeh.io.notebook as ion; ion.destroy_server('\" + server_id + \"')\";\n",
              "      cell.notebook.kernel.execute(cmd);\n",
              "    }\n",
              "  }\n",
              "\n",
              "  /**\n",
              "   * Handle when a new output is added\n",
              "   */\n",
              "  function handleAddOutput(event, handle) {\n",
              "    var output_area = handle.output_area;\n",
              "    var output = handle.output;\n",
              "\n",
              "    // limit handleAddOutput to display_data with EXEC_MIME_TYPE content only\n",
              "    if ((output.output_type != \"display_data\") || (!output.data.hasOwnProperty(EXEC_MIME_TYPE))) {\n",
              "      return\n",
              "    }\n",
              "\n",
              "    var toinsert = output_area.element.find(\".\" + CLASS_NAME.split(' ')[0]);\n",
              "\n",
              "    if (output.metadata[EXEC_MIME_TYPE][\"id\"] !== undefined) {\n",
              "      toinsert[toinsert.length - 1].firstChild.textContent = output.data[JS_MIME_TYPE];\n",
              "      // store reference to embed id on output_area\n",
              "      output_area._bokeh_element_id = output.metadata[EXEC_MIME_TYPE][\"id\"];\n",
              "    }\n",
              "    if (output.metadata[EXEC_MIME_TYPE][\"server_id\"] !== undefined) {\n",
              "      var bk_div = document.createElement(\"div\");\n",
              "      bk_div.innerHTML = output.data[HTML_MIME_TYPE];\n",
              "      var script_attrs = bk_div.children[0].attributes;\n",
              "      for (var i = 0; i < script_attrs.length; i++) {\n",
              "        toinsert[toinsert.length - 1].firstChild.setAttribute(script_attrs[i].name, script_attrs[i].value);\n",
              "        toinsert[toinsert.length - 1].firstChild.textContent = bk_div.children[0].textContent\n",
              "      }\n",
              "      // store reference to server id on output_area\n",
              "      output_area._bokeh_server_id = output.metadata[EXEC_MIME_TYPE][\"server_id\"];\n",
              "    }\n",
              "  }\n",
              "\n",
              "  function register_renderer(events, OutputArea) {\n",
              "\n",
              "    function append_mime(data, metadata, element) {\n",
              "      // create a DOM node to render to\n",
              "      var toinsert = this.create_output_subarea(\n",
              "        metadata,\n",
              "        CLASS_NAME,\n",
              "        EXEC_MIME_TYPE\n",
              "      );\n",
              "      this.keyboard_manager.register_events(toinsert);\n",
              "      // Render to node\n",
              "      var props = {data: data, metadata: metadata[EXEC_MIME_TYPE]};\n",
              "      render(props, toinsert[toinsert.length - 1]);\n",
              "      element.append(toinsert);\n",
              "      return toinsert\n",
              "    }\n",
              "\n",
              "    /* Handle when an output is cleared or removed */\n",
              "    events.on('clear_output.CodeCell', handleClearOutput);\n",
              "    events.on('delete.Cell', handleClearOutput);\n",
              "\n",
              "    /* Handle when a new output is added */\n",
              "    events.on('output_added.OutputArea', handleAddOutput);\n",
              "\n",
              "    /**\n",
              "     * Register the mime type and append_mime function with output_area\n",
              "     */\n",
              "    OutputArea.prototype.register_mime_type(EXEC_MIME_TYPE, append_mime, {\n",
              "      /* Is output safe? */\n",
              "      safe: true,\n",
              "      /* Index of renderer in `output_area.display_order` */\n",
              "      index: 0\n",
              "    });\n",
              "  }\n",
              "\n",
              "  // register the mime type if in Jupyter Notebook environment and previously unregistered\n",
              "  if (root.Jupyter !== undefined) {\n",
              "    var events = require('base/js/events');\n",
              "    var OutputArea = require('notebook/js/outputarea').OutputArea;\n",
              "\n",
              "    if (OutputArea.prototype.mime_types().indexOf(EXEC_MIME_TYPE) == -1) {\n",
              "      register_renderer(events, OutputArea);\n",
              "    }\n",
              "  }\n",
              "\n",
              "  \n",
              "  if (typeof (root._bokeh_timeout) === \"undefined\" || force === true) {\n",
              "    root._bokeh_timeout = Date.now() + 5000;\n",
              "    root._bokeh_failed_load = false;\n",
              "  }\n",
              "\n",
              "  var NB_LOAD_WARNING = {'data': {'text/html':\n",
              "     \"<div style='background-color: #fdd'>\\n\"+\n",
              "     \"<p>\\n\"+\n",
              "     \"BokehJS does not appear to have successfully loaded. If loading BokehJS from CDN, this \\n\"+\n",
              "     \"may be due to a slow or bad network connection. Possible fixes:\\n\"+\n",
              "     \"</p>\\n\"+\n",
              "     \"<ul>\\n\"+\n",
              "     \"<li>re-rerun `output_notebook()` to attempt to load from CDN again, or</li>\\n\"+\n",
              "     \"<li>use INLINE resources instead, as so:</li>\\n\"+\n",
              "     \"</ul>\\n\"+\n",
              "     \"<code>\\n\"+\n",
              "     \"from bokeh.resources import INLINE\\n\"+\n",
              "     \"output_notebook(resources=INLINE)\\n\"+\n",
              "     \"</code>\\n\"+\n",
              "     \"</div>\"}};\n",
              "\n",
              "  function display_loaded() {\n",
              "    var el = document.getElementById(null);\n",
              "    if (el != null) {\n",
              "      el.textContent = \"BokehJS is loading...\";\n",
              "    }\n",
              "    if (root.Bokeh !== undefined) {\n",
              "      if (el != null) {\n",
              "        el.textContent = \"BokehJS \" + root.Bokeh.version + \" successfully loaded.\";\n",
              "      }\n",
              "    } else if (Date.now() < root._bokeh_timeout) {\n",
              "      setTimeout(display_loaded, 100)\n",
              "    }\n",
              "  }\n",
              "\n",
              "\n",
              "  function run_callbacks() {\n",
              "    try {\n",
              "      root._bokeh_onload_callbacks.forEach(function(callback) {\n",
              "        if (callback != null)\n",
              "          callback();\n",
              "      });\n",
              "    } finally {\n",
              "      delete root._bokeh_onload_callbacks\n",
              "    }\n",
              "    console.debug(\"Bokeh: all callbacks have finished\");\n",
              "  }\n",
              "\n",
              "  function load_libs(css_urls, js_urls, callback) {\n",
              "    if (css_urls == null) css_urls = [];\n",
              "    if (js_urls == null) js_urls = [];\n",
              "\n",
              "    root._bokeh_onload_callbacks.push(callback);\n",
              "    if (root._bokeh_is_loading > 0) {\n",
              "      console.debug(\"Bokeh: BokehJS is being loaded, scheduling callback at\", now());\n",
              "      return null;\n",
              "    }\n",
              "    if (js_urls == null || js_urls.length === 0) {\n",
              "      run_callbacks();\n",
              "      return null;\n",
              "    }\n",
              "    console.debug(\"Bokeh: BokehJS not loaded, scheduling load and callback at\", now());\n",
              "    root._bokeh_is_loading = css_urls.length + js_urls.length;\n",
              "\n",
              "    function on_load() {\n",
              "      root._bokeh_is_loading--;\n",
              "      if (root._bokeh_is_loading === 0) {\n",
              "        console.debug(\"Bokeh: all BokehJS libraries/stylesheets loaded\");\n",
              "        run_callbacks()\n",
              "      }\n",
              "    }\n",
              "\n",
              "    function on_error() {\n",
              "      console.error(\"failed to load \" + url);\n",
              "    }\n",
              "\n",
              "    for (var i = 0; i < css_urls.length; i++) {\n",
              "      var url = css_urls[i];\n",
              "      const element = document.createElement(\"link\");\n",
              "      element.onload = on_load;\n",
              "      element.onerror = on_error;\n",
              "      element.rel = \"stylesheet\";\n",
              "      element.type = \"text/css\";\n",
              "      element.href = url;\n",
              "      console.debug(\"Bokeh: injecting link tag for BokehJS stylesheet: \", url);\n",
              "      document.body.appendChild(element);\n",
              "    }\n",
              "\n",
              "    const hashes = {\"https://cdn.bokeh.org/bokeh/release/bokeh-2.1.1.min.js\": \"kLr4fYcqcSpbuI95brIH3vnnYCquzzSxHPU6XGQCIkQRGJwhg0StNbj1eegrHs12\", \"https://cdn.bokeh.org/bokeh/release/bokeh-widgets-2.1.1.min.js\": \"xIGPmVtaOm+z0BqfSOMn4lOR6ciex448GIKG4eE61LsAvmGj48XcMQZtKcE/UXZe\", \"https://cdn.bokeh.org/bokeh/release/bokeh-tables-2.1.1.min.js\": \"Dc9u1wF/0zApGIWoBbH77iWEHtdmkuYWG839Uzmv8y8yBLXebjO9ZnERsde5Ln/P\", \"https://cdn.bokeh.org/bokeh/release/bokeh-gl-2.1.1.min.js\": \"cT9JaBz7GiRXdENrJLZNSC6eMNF3nh3fa5fTF51Svp+ukxPdwcU5kGXGPBgDCa2j\"};\n",
              "\n",
              "    for (var i = 0; i < js_urls.length; i++) {\n",
              "      var url = js_urls[i];\n",
              "      var element = document.createElement('script');\n",
              "      element.onload = on_load;\n",
              "      element.onerror = on_error;\n",
              "      element.async = false;\n",
              "      element.src = url;\n",
              "      if (url in hashes) {\n",
              "        element.crossOrigin = \"anonymous\";\n",
              "        element.integrity = \"sha384-\" + hashes[url];\n",
              "      }\n",
              "      console.debug(\"Bokeh: injecting script tag for BokehJS library: \", url);\n",
              "      document.head.appendChild(element);\n",
              "    }\n",
              "  };\n",
              "\n",
              "  function inject_raw_css(css) {\n",
              "    const element = document.createElement(\"style\");\n",
              "    element.appendChild(document.createTextNode(css));\n",
              "    document.body.appendChild(element);\n",
              "  }\n",
              "\n",
              "  \n",
              "  var js_urls = [\"https://cdn.bokeh.org/bokeh/release/bokeh-2.1.1.min.js\", \"https://cdn.bokeh.org/bokeh/release/bokeh-widgets-2.1.1.min.js\", \"https://cdn.bokeh.org/bokeh/release/bokeh-tables-2.1.1.min.js\", \"https://cdn.bokeh.org/bokeh/release/bokeh-gl-2.1.1.min.js\"];\n",
              "  var css_urls = [];\n",
              "  \n",
              "\n",
              "  var inline_js = [\n",
              "    function(Bokeh) {\n",
              "      Bokeh.set_log_level(\"info\");\n",
              "    },\n",
              "    function(Bokeh) {\n",
              "    \n",
              "    \n",
              "    }\n",
              "  ];\n",
              "\n",
              "  function run_inline_js() {\n",
              "    \n",
              "    if (root.Bokeh !== undefined || force === true) {\n",
              "      \n",
              "    for (var i = 0; i < inline_js.length; i++) {\n",
              "      inline_js[i].call(root, root.Bokeh);\n",
              "    }\n",
              "    } else if (Date.now() < root._bokeh_timeout) {\n",
              "      setTimeout(run_inline_js, 100);\n",
              "    } else if (!root._bokeh_failed_load) {\n",
              "      console.log(\"Bokeh: BokehJS failed to load within specified timeout.\");\n",
              "      root._bokeh_failed_load = true;\n",
              "    } else if (force !== true) {\n",
              "      var cell = $(document.getElementById(null)).parents('.cell').data().cell;\n",
              "      cell.output_area.append_execute_result(NB_LOAD_WARNING)\n",
              "    }\n",
              "\n",
              "  }\n",
              "\n",
              "  if (root._bokeh_is_loading === 0) {\n",
              "    console.debug(\"Bokeh: BokehJS loaded, going straight to plotting\");\n",
              "    run_inline_js();\n",
              "  } else {\n",
              "    load_libs(css_urls, js_urls, function() {\n",
              "      console.debug(\"Bokeh: BokehJS plotting callback run at\", now());\n",
              "      run_inline_js();\n",
              "    });\n",
              "  }\n",
              "}(window));"
            ],
            "application/vnd.bokehjs_load.v0+json": "\n(function(root) {\n  function now() {\n    return new Date();\n  }\n\n  var force = true;\n\n  if (typeof root._bokeh_onload_callbacks === \"undefined\" || force === true) {\n    root._bokeh_onload_callbacks = [];\n    root._bokeh_is_loading = undefined;\n  }\n\n  \n\n  \n  if (typeof (root._bokeh_timeout) === \"undefined\" || force === true) {\n    root._bokeh_timeout = Date.now() + 5000;\n    root._bokeh_failed_load = false;\n  }\n\n  var NB_LOAD_WARNING = {'data': {'text/html':\n     \"<div style='background-color: #fdd'>\\n\"+\n     \"<p>\\n\"+\n     \"BokehJS does not appear to have successfully loaded. If loading BokehJS from CDN, this \\n\"+\n     \"may be due to a slow or bad network connection. Possible fixes:\\n\"+\n     \"</p>\\n\"+\n     \"<ul>\\n\"+\n     \"<li>re-rerun `output_notebook()` to attempt to load from CDN again, or</li>\\n\"+\n     \"<li>use INLINE resources instead, as so:</li>\\n\"+\n     \"</ul>\\n\"+\n     \"<code>\\n\"+\n     \"from bokeh.resources import INLINE\\n\"+\n     \"output_notebook(resources=INLINE)\\n\"+\n     \"</code>\\n\"+\n     \"</div>\"}};\n\n  function display_loaded() {\n    var el = document.getElementById(null);\n    if (el != null) {\n      el.textContent = \"BokehJS is loading...\";\n    }\n    if (root.Bokeh !== undefined) {\n      if (el != null) {\n        el.textContent = \"BokehJS \" + root.Bokeh.version + \" successfully loaded.\";\n      }\n    } else if (Date.now() < root._bokeh_timeout) {\n      setTimeout(display_loaded, 100)\n    }\n  }\n\n\n  function run_callbacks() {\n    try {\n      root._bokeh_onload_callbacks.forEach(function(callback) {\n        if (callback != null)\n          callback();\n      });\n    } finally {\n      delete root._bokeh_onload_callbacks\n    }\n    console.debug(\"Bokeh: all callbacks have finished\");\n  }\n\n  function load_libs(css_urls, js_urls, callback) {\n    if (css_urls == null) css_urls = [];\n    if (js_urls == null) js_urls = [];\n\n    root._bokeh_onload_callbacks.push(callback);\n    if (root._bokeh_is_loading > 0) {\n      console.debug(\"Bokeh: BokehJS is being loaded, scheduling callback at\", now());\n      return null;\n    }\n    if (js_urls == null || js_urls.length === 0) {\n      run_callbacks();\n      return null;\n    }\n    console.debug(\"Bokeh: BokehJS not loaded, scheduling load and callback at\", now());\n    root._bokeh_is_loading = css_urls.length + js_urls.length;\n\n    function on_load() {\n      root._bokeh_is_loading--;\n      if (root._bokeh_is_loading === 0) {\n        console.debug(\"Bokeh: all BokehJS libraries/stylesheets loaded\");\n        run_callbacks()\n      }\n    }\n\n    function on_error() {\n      console.error(\"failed to load \" + url);\n    }\n\n    for (var i = 0; i < css_urls.length; i++) {\n      var url = css_urls[i];\n      const element = document.createElement(\"link\");\n      element.onload = on_load;\n      element.onerror = on_error;\n      element.rel = \"stylesheet\";\n      element.type = \"text/css\";\n      element.href = url;\n      console.debug(\"Bokeh: injecting link tag for BokehJS stylesheet: \", url);\n      document.body.appendChild(element);\n    }\n\n    const hashes = {\"https://cdn.bokeh.org/bokeh/release/bokeh-2.1.1.min.js\": \"kLr4fYcqcSpbuI95brIH3vnnYCquzzSxHPU6XGQCIkQRGJwhg0StNbj1eegrHs12\", \"https://cdn.bokeh.org/bokeh/release/bokeh-widgets-2.1.1.min.js\": \"xIGPmVtaOm+z0BqfSOMn4lOR6ciex448GIKG4eE61LsAvmGj48XcMQZtKcE/UXZe\", \"https://cdn.bokeh.org/bokeh/release/bokeh-tables-2.1.1.min.js\": \"Dc9u1wF/0zApGIWoBbH77iWEHtdmkuYWG839Uzmv8y8yBLXebjO9ZnERsde5Ln/P\", \"https://cdn.bokeh.org/bokeh/release/bokeh-gl-2.1.1.min.js\": \"cT9JaBz7GiRXdENrJLZNSC6eMNF3nh3fa5fTF51Svp+ukxPdwcU5kGXGPBgDCa2j\"};\n\n    for (var i = 0; i < js_urls.length; i++) {\n      var url = js_urls[i];\n      var element = document.createElement('script');\n      element.onload = on_load;\n      element.onerror = on_error;\n      element.async = false;\n      element.src = url;\n      if (url in hashes) {\n        element.crossOrigin = \"anonymous\";\n        element.integrity = \"sha384-\" + hashes[url];\n      }\n      console.debug(\"Bokeh: injecting script tag for BokehJS library: \", url);\n      document.head.appendChild(element);\n    }\n  };\n\n  function inject_raw_css(css) {\n    const element = document.createElement(\"style\");\n    element.appendChild(document.createTextNode(css));\n    document.body.appendChild(element);\n  }\n\n  \n  var js_urls = [\"https://cdn.bokeh.org/bokeh/release/bokeh-2.1.1.min.js\", \"https://cdn.bokeh.org/bokeh/release/bokeh-widgets-2.1.1.min.js\", \"https://cdn.bokeh.org/bokeh/release/bokeh-tables-2.1.1.min.js\", \"https://cdn.bokeh.org/bokeh/release/bokeh-gl-2.1.1.min.js\"];\n  var css_urls = [];\n  \n\n  var inline_js = [\n    function(Bokeh) {\n      Bokeh.set_log_level(\"info\");\n    },\n    function(Bokeh) {\n    \n    \n    }\n  ];\n\n  function run_inline_js() {\n    \n    if (root.Bokeh !== undefined || force === true) {\n      \n    for (var i = 0; i < inline_js.length; i++) {\n      inline_js[i].call(root, root.Bokeh);\n    }\n    } else if (Date.now() < root._bokeh_timeout) {\n      setTimeout(run_inline_js, 100);\n    } else if (!root._bokeh_failed_load) {\n      console.log(\"Bokeh: BokehJS failed to load within specified timeout.\");\n      root._bokeh_failed_load = true;\n    } else if (force !== true) {\n      var cell = $(document.getElementById(null)).parents('.cell').data().cell;\n      cell.output_area.append_execute_result(NB_LOAD_WARNING)\n    }\n\n  }\n\n  if (root._bokeh_is_loading === 0) {\n    console.debug(\"Bokeh: BokehJS loaded, going straight to plotting\");\n    run_inline_js();\n  } else {\n    load_libs(css_urls, js_urls, function() {\n      console.debug(\"Bokeh: BokehJS plotting callback run at\", now());\n      run_inline_js();\n    });\n  }\n}(window));"
          },
          "metadata": {
            "tags": []
          }
        },
        {
          "output_type": "display_data",
          "data": {
            "text/html": [
              "\n",
              "\n",
              "\n",
              "\n",
              "\n",
              "\n",
              "  <div class=\"bk-root\" id=\"1229d33a-5e4e-4690-89b4-43f224c0b6ab\" data-root-id=\"2162\"></div>\n"
            ]
          },
          "metadata": {
            "tags": []
          }
        },
        {
          "output_type": "display_data",
          "data": {
            "application/javascript": [
              "(function(root) {\n",
              "  function embed_document(root) {\n",
              "    \n",
              "  var docs_json = {\"9483528d-4d94-4dbe-bad4-fdfd6a775acf\":{\"roots\":{\"references\":[{\"attributes\":{\"below\":[{\"id\":\"2173\"}],\"center\":[{\"id\":\"2176\"},{\"id\":\"2180\"},{\"id\":\"2220\"}],\"left\":[{\"id\":\"2177\"}],\"plot_width\":800,\"renderers\":[{\"id\":\"2198\"}],\"title\":{\"id\":\"2163\"},\"toolbar\":{\"id\":\"2188\"},\"x_range\":{\"id\":\"2165\"},\"x_scale\":{\"id\":\"2169\"},\"y_range\":{\"id\":\"2167\"},\"y_scale\":{\"id\":\"2171\"}},\"id\":\"2162\",\"subtype\":\"Figure\",\"type\":\"Plot\"},{\"attributes\":{\"num_minor_ticks\":5,\"tickers\":[{\"id\":\"2205\"},{\"id\":\"2206\"},{\"id\":\"2207\"},{\"id\":\"2208\"},{\"id\":\"2209\"},{\"id\":\"2210\"},{\"id\":\"2211\"},{\"id\":\"2212\"},{\"id\":\"2213\"},{\"id\":\"2214\"},{\"id\":\"2215\"},{\"id\":\"2216\"}]},\"id\":\"2174\",\"type\":\"DatetimeTicker\"},{\"attributes\":{},\"id\":\"2218\",\"type\":\"UnionRenderers\"},{\"attributes\":{},\"id\":\"2171\",\"type\":\"LinearScale\"},{\"attributes\":{\"axis_label\":\"Date\",\"formatter\":{\"id\":\"2201\"},\"ticker\":{\"id\":\"2174\"}},\"id\":\"2173\",\"type\":\"DatetimeAxis\"},{\"attributes\":{\"source\":{\"id\":\"2195\"}},\"id\":\"2199\",\"type\":\"CDSView\"},{\"attributes\":{},\"id\":\"2201\",\"type\":\"DatetimeTickFormatter\"},{\"attributes\":{},\"id\":\"2169\",\"type\":\"LinearScale\"},{\"attributes\":{},\"id\":\"2203\",\"type\":\"BasicTickFormatter\"},{\"attributes\":{},\"id\":\"2167\",\"type\":\"DataRange1d\"},{\"attributes\":{\"mantissas\":[1,2,5],\"max_interval\":500.0,\"num_minor_ticks\":0},\"id\":\"2205\",\"type\":\"AdaptiveTicker\"},{\"attributes\":{\"line_alpha\":0.1,\"line_color\":\"#f2a900\",\"x\":{\"field\":\"x\"},\"y\":{\"field\":\"y\"}},\"id\":\"2197\",\"type\":\"Line\"},{\"attributes\":{},\"id\":\"2165\",\"type\":\"DataRange1d\"},{\"attributes\":{\"base\":60,\"mantissas\":[1,2,5,10,15,20,30],\"max_interval\":1800000.0,\"min_interval\":1000.0,\"num_minor_ticks\":0},\"id\":\"2206\",\"type\":\"AdaptiveTicker\"},{\"attributes\":{\"text\":\"Crypto Prices\"},\"id\":\"2163\",\"type\":\"Title\"},{\"attributes\":{\"base\":24,\"mantissas\":[1,2,4,6,8,12],\"max_interval\":43200000.0,\"min_interval\":3600000.0,\"num_minor_ticks\":0},\"id\":\"2207\",\"type\":\"AdaptiveTicker\"},{\"attributes\":{\"days\":[1,2,3,4,5,6,7,8,9,10,11,12,13,14,15,16,17,18,19,20,21,22,23,24,25,26,27,28,29,30,31]},\"id\":\"2208\",\"type\":\"DaysTicker\"},{\"attributes\":{\"bottom_units\":\"screen\",\"fill_alpha\":0.5,\"fill_color\":\"lightgrey\",\"left_units\":\"screen\",\"level\":\"overlay\",\"line_alpha\":1.0,\"line_color\":\"black\",\"line_dash\":[4,4],\"line_width\":2,\"right_units\":\"screen\",\"top_units\":\"screen\"},\"id\":\"2187\",\"type\":\"BoxAnnotation\"},{\"attributes\":{\"data\":{\"x\":{\"__ndarray__\":\"AADwd3F4d0IAANjmdHh3QgAAwFV4eHdCAACoxHt4d0IAAJAzf3h3QgAAeKKCeHdCAABgEYZ4d0IAAEiAiXh3QgAAMO+MeHdCAAAYXpB4d0IAAADNk3h3QgAA6DuXeHdCAADQqpp4d0IAALgZnnh3QgAAoIiheHdCAACI96R4d0IAAHBmqHh3QgAAWNWreHdCAABARK94d0IAACizsnh3QgAAECK2eHdCAAD4kLl4d0IAAOD/vHh3QgAAyG7AeHdCAACw3cN4d0IAAJhMx3h3QgAAgLvKeHdCAABoKs54d0IAAFCZ0Xh3QgAAOAjVeHdCAAAgd9h4d0IAAAjm23h3QgAA8FTfeHdCAADYw+J4d0IAAMAy5nh3QgAAqKHpeHdCAACQEO14d0IAAHh/8Hh3QgAAYO7zeHdCAABIXfd4d0IAADDM+nh3QgAAGDv+eHdCAAAAqgF5d0IAAOgYBXl3QgAA0IcIeXdCAAC49gt5d0IAAKBlD3l3QgAAiNQSeXdCAABwQxZ5d0IAAFiyGXl3QgAAQCEdeXdCAAAokCB5d0IAABD/I3l3QgAA+G0neXdCAADg3Cp5d0IAAMhLLnl3QgAAsLoxeXdCAACYKTV5d0IAAICYOHl3QgAAaAc8eXdCAABQdj95d0IAADjlQnl3QgAAIFRGeXdCAAAIw0l5d0IAAPAxTXl3QgAA2KBQeXdCAADAD1R5d0IAAKh+V3l3QgAAkO1aeXdCAAB4XF55d0IAAGDLYXl3QgAASDpleXdCAAAwqWh5d0IAABgYbHl3QgAAAIdveXdCAADo9XJ5d0IAANBkdnl3QgAAuNN5eXdCAACgQn15d0IAAIixgHl3QgAAcCCEeXdCAABYj4d5d0IAAED+inl3QgAAKG2OeXdCAAAQ3JF5d0IAAPhKlXl3QgAA4LmYeXdCAADIKJx5d0IAALCXn3l3QgAAmAajeXdCAACAdaZ5d0IAAGjkqXl3QgAAUFOteXdCAAA4wrB5d0IAACAxtHl3QgAACKC3eXdCAADwDrt5d0IAANh9vnl3QgAAwOzBeXdCAACoW8V5d0IAAJDKyHl3QgAAeDnMeXdCAABgqM95d0IAAEgX03l3QgAAMIbWeXdCAAAY9dl5d0IAAABk3Xl3QgAA6NLgeXdCAADQQeR5d0IAALiw53l3QgAAoB/reXdCAACIju55d0IAAHD98Xl3QgAAWGz1eXdCAABA2/h5d0IAAChK/Hl3QgAAELn/eXdCAAD4JwN6d0IAAOCWBnp3QgAAyAUKendCAACwdA16d0IAAJjjEHp3QgAAgFIUendCAABowRd6d0IAAFAwG3p3QgAAOJ8eendCAAAgDiJ6d0IAAAh9JXp3QgAA8OsoendCAADYWix6d0IAAMDJL3p3QgAAqDgzendCAACQpzZ6d0IAAHgWOnp3QgAAYIU9endCAABI9EB6d0IAADBjRHp3QgAAGNJHendCAAAAQUt6d0IAAOivTnp3QgAA0B5SendCAAC4jVV6d0IAAKD8WHp3QgAAiGtcendCAABw2l96d0IAAFhJY3p3QgAAQLhmendCAAAoJ2p6d0IAABCWbXp3QgAA+ARxendCAADgc3R6d0IAAMjid3p3QgAAsFF7endCAACYwH56d0IAAIAvgnp3QgAAaJ6FendCAABQDYl6d0IAADh8jHp3QgAAIOuPendCAAAIWpN6d0IAAPDIlnp3QgAA2DeaendCAADApp16d0IAAKgVoXp3QgAAkISkendCAAB486d6d0IAAGBiq3p3QgAASNGuendCAAAwQLJ6d0I=\",\"dtype\":\"float64\",\"order\":\"little\",\"shape\":[169]},\"y\":{\"__ndarray__\":\"16NwPUqc5kDD9ShcJ8nmQOxRuB513OZAw/UoXAe45kCamZmZUbzmQMP1KFwX/OZAZmZmZn4D50AUrkfhsgfnQK5H4XpMH+dAMzMzMxPp5kBmZmZmJrXmQNejcD3SweZAFK5H4dKg5kBcj8L10KLmQEjhehQGmeZAw/UoXB9+5kAAAAAA6InmQOF6FK4HuuZAMzMzM0vG5kAUrkfhytTmQMP1KFzvx+ZA4XoUrrfN5kBmZmZm7snmQFK4HoWTXuZApHA9ChdQ5kApXI/CzfnlQM3MzMxkq+VAw/UoXB/g5UCPwvUo5P/lQM3MzMwEC+ZAUrgehZsX5kCPwvUonMblQOxRuB7l/eVAAAAAAAAX5kCPwvUo1OblQOF6FK5noeVAuB6F66mZ5UC4HoXrYeHlQD0K16NgMeZAj8L1KBTd5UBSuB6Fo9DlQDMzMzODyeVAH4XrUZjc5UA9CtejoAHmQB+F61HwPOZArkfheoyc5kDD9ShcZ4DmQHsUrkcZvOZAcT0K1zM250AAAAAA2GbnQM3MzMwEdudAZmZmZv5B50ApXI/CvSbnQFyPwvX4S+dAUrgehUNb50AAAAAAgP/mQOxRuB495eZAw/UoXF9R50DD9Shcr23nQKRwPQrHbudAcT0K14ux50DD9Shcr2vnQLgehesRQedA9ihcj8oe50ApXI/CdRjnQK5H4XqUKedAH4XrUdAh50A9CtejgAnnQM3MzMw8JudAuB6F61Eq50BmZmZmTkTnQOF6FK5XUOdAKVyPwsVn50A9CtejmMXmQHE9CtcLBOdAmpmZmVlF50BI4XoUhlbnQBSuR+EKGudAexSuR/kf50Bcj8L1UEfnQJqZmZn5aOdAKVyPwj1o50AUrkfheiTnQNejcD1COedAuB6F6/FL50DD9Shcx2TnQGZmZmZuZudAw/UoXPdv50C4HoXr0WznQD0K16MIW+dAKVyPwk385kBSuB6FGzfnQOxRuB6dE+dAKVyPwu245kCuR+F6jMHmQMP1KFzP6eZAUrgehcv05kDXo3A98vPmQIXrUbgWA+dAcT0K1wsL50DXo3A9CuDmQAAAAADw3uZACtejcJXq5kBI4XoUfvLmQI/C9ShsCOdAPQrXo8gD50DD9Shcjw/nQGZmZmbGROdAcT0K1xM250CkcD0KNyznQHE9CtdDG+dAw/UoXJ8950AAAAAAAOfnQArXo3Bl0udASOF6FP7P50D2KFyPas3nQBSuR+HSAOhApHA9Cm/z50CPwvUoFPPnQFyPwvVgJuhA9ihcj8LS50CamZmZadTnQIXrUbgGu+dASOF6FEb150AK16NwdcHnQDMzMzOLz+dAMzMzM7vL50CF61G4ruXnQD0K16OA3udAFK5H4UL450AAAAAA0MLnQAAAAAAA1OdA7FG4Ho1650CPwvUopO/mQAAAAADABedAcT0K1wPl5kBmZmZm/tnmQEjhehQ27OZA9ihcj1Id50DD9ShcP0TnQFyPwvWoN+dASOF6FKZh50CkcD0KJ1znQK5H4XrMcOdAXI/C9Thx50BI4XoUbj7nQHE9Ctd7bedAAAAAAICu50BSuB6FU7fnQHsUrkdhm+dAFK5H4cLG50DsUbge3brnQJqZmZlxhedAj8L1KBSX50DXo3A90mjnQHE9CtczSudAMzMzM9uS50Bcj8L1yKnnQD0K16OYM+hA7FG4Hg0Z6EBI4XoU3gHoQB+F61E48OdAUrgehUsB6ED2KFyPkhHoQEjhehQGD+hAKVyPwi3w50BSuB6Fa+HnQGZmZmaGOehACtejcCX/50A=\",\"dtype\":\"float64\",\"order\":\"little\",\"shape\":[169]}},\"selected\":{\"id\":\"2217\"},\"selection_policy\":{\"id\":\"2218\"}},\"id\":\"2195\",\"type\":\"ColumnDataSource\"},{\"attributes\":{\"label\":{\"value\":\"Bitcoin\"},\"renderers\":[{\"id\":\"2198\"}]},\"id\":\"2221\",\"type\":\"LegendItem\"},{\"attributes\":{\"days\":[1,4,7,10,13,16,19,22,25,28]},\"id\":\"2209\",\"type\":\"DaysTicker\"},{\"attributes\":{\"line_color\":\"#f2a900\",\"x\":{\"field\":\"x\"},\"y\":{\"field\":\"y\"}},\"id\":\"2196\",\"type\":\"Line\"},{\"attributes\":{},\"id\":\"2184\",\"type\":\"SaveTool\"},{\"attributes\":{\"days\":[1,8,15,22]},\"id\":\"2210\",\"type\":\"DaysTicker\"},{\"attributes\":{\"axis\":{\"id\":\"2177\"},\"dimension\":1,\"grid_line_alpha\":0.3,\"ticker\":null},\"id\":\"2180\",\"type\":\"Grid\"},{\"attributes\":{\"items\":[{\"id\":\"2221\"}],\"location\":\"top_left\"},\"id\":\"2220\",\"type\":\"Legend\"},{\"attributes\":{\"days\":[1,15]},\"id\":\"2211\",\"type\":\"DaysTicker\"},{\"attributes\":{\"overlay\":{\"id\":\"2187\"}},\"id\":\"2183\",\"type\":\"BoxZoomTool\"},{\"attributes\":{\"months\":[0,1,2,3,4,5,6,7,8,9,10,11]},\"id\":\"2212\",\"type\":\"MonthsTicker\"},{\"attributes\":{},\"id\":\"2182\",\"type\":\"WheelZoomTool\"},{\"attributes\":{\"months\":[0,2,4,6,8,10]},\"id\":\"2213\",\"type\":\"MonthsTicker\"},{\"attributes\":{},\"id\":\"2181\",\"type\":\"PanTool\"},{\"attributes\":{\"months\":[0,4,8]},\"id\":\"2214\",\"type\":\"MonthsTicker\"},{\"attributes\":{},\"id\":\"2185\",\"type\":\"ResetTool\"},{\"attributes\":{\"axis_label\":\"Price\",\"formatter\":{\"id\":\"2203\"},\"ticker\":{\"id\":\"2178\"}},\"id\":\"2177\",\"type\":\"LinearAxis\"},{\"attributes\":{\"active_drag\":\"auto\",\"active_inspect\":\"auto\",\"active_multi\":null,\"active_scroll\":\"auto\",\"active_tap\":\"auto\",\"tools\":[{\"id\":\"2181\"},{\"id\":\"2182\"},{\"id\":\"2183\"},{\"id\":\"2184\"},{\"id\":\"2185\"},{\"id\":\"2186\"}]},\"id\":\"2188\",\"type\":\"Toolbar\"},{\"attributes\":{\"months\":[0,6]},\"id\":\"2215\",\"type\":\"MonthsTicker\"},{\"attributes\":{},\"id\":\"2178\",\"type\":\"BasicTicker\"},{\"attributes\":{},\"id\":\"2186\",\"type\":\"HelpTool\"},{\"attributes\":{},\"id\":\"2216\",\"type\":\"YearsTicker\"},{\"attributes\":{\"axis\":{\"id\":\"2173\"},\"grid_line_alpha\":0.3,\"ticker\":null},\"id\":\"2176\",\"type\":\"Grid\"},{\"attributes\":{},\"id\":\"2217\",\"type\":\"Selection\"},{\"attributes\":{\"data_source\":{\"id\":\"2195\"},\"glyph\":{\"id\":\"2196\"},\"hover_glyph\":null,\"muted_glyph\":null,\"nonselection_glyph\":{\"id\":\"2197\"},\"selection_glyph\":null,\"view\":{\"id\":\"2199\"}},\"id\":\"2198\",\"type\":\"GlyphRenderer\"}],\"root_ids\":[\"2162\"]},\"title\":\"Bokeh Application\",\"version\":\"2.1.1\"}};\n",
              "  var render_items = [{\"docid\":\"9483528d-4d94-4dbe-bad4-fdfd6a775acf\",\"root_ids\":[\"2162\"],\"roots\":{\"2162\":\"1229d33a-5e4e-4690-89b4-43f224c0b6ab\"}}];\n",
              "  root.Bokeh.embed.embed_items_notebook(docs_json, render_items);\n",
              "\n",
              "  }\n",
              "  if (root.Bokeh !== undefined) {\n",
              "    embed_document(root);\n",
              "  } else {\n",
              "    var attempts = 0;\n",
              "    var timer = setInterval(function(root) {\n",
              "      if (root.Bokeh !== undefined) {\n",
              "        clearInterval(timer);\n",
              "        embed_document(root);\n",
              "      } else {\n",
              "        attempts++;\n",
              "        if (attempts > 100) {\n",
              "          clearInterval(timer);\n",
              "          console.log(\"Bokeh: ERROR: Unable to run BokehJS code because BokehJS library is missing\");\n",
              "        }\n",
              "      }\n",
              "    }, 10, root)\n",
              "  }\n",
              "})(window);"
            ],
            "application/vnd.bokehjs_exec.v0+json": ""
          },
          "metadata": {
            "tags": [],
            "application/vnd.bokehjs_exec.v0+json": {
              "id": "2162"
            }
          }
        }
      ]
    },
    {
      "cell_type": "code",
      "metadata": {
        "id": "luKpAvBdBo-i"
      },
      "source": [
        "#para a cryptomoeda Ether\n",
        "\n",
        "x1 = figure(x_axis_type='datetime', title='Crypto Prices', width=800)\n",
        "x1.grid.grid_line_alpha=0.3\n",
        "x1.xaxis.axis_label = 'Date'\n",
        "x1.yaxis.axis_label = 'Price'\n",
        "\n",
        "#a moeda esta definida para a ultima semana\n",
        "x1.line(eth.index, eth['ClosePrice'], color='#f2a900', legend='Ether')\n",
        "\n",
        "x1.legend.location = 'top_left'\n",
        "show(x1)"
      ],
      "execution_count": null,
      "outputs": []
    },
    {
      "cell_type": "code",
      "metadata": {
        "id": "JKFMAHEZCLez"
      },
      "source": [
        "#exportando para um excel\n",
        "writer = pd.ExcelWriter('cryptosfev2021.xlsx')"
      ],
      "execution_count": null,
      "outputs": []
    },
    {
      "cell_type": "code",
      "metadata": {
        "id": "omMxU39KCiqP"
      },
      "source": [
        "#colocando as moedas em colunas separadas\n",
        "bit.to_excel(writer, sheet_name='Bitcoin')"
      ],
      "execution_count": null,
      "outputs": []
    },
    {
      "cell_type": "code",
      "metadata": {
        "id": "jYqkgHLPCtXl"
      },
      "source": [
        "eth.to_excel(writer, sheet_name='Ether')"
      ],
      "execution_count": null,
      "outputs": []
    },
    {
      "cell_type": "code",
      "metadata": {
        "id": "q0Lo9mnJCy4o"
      },
      "source": [
        "writer.save()"
      ],
      "execution_count": null,
      "outputs": []
    }
  ]
}