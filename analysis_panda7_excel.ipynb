{
  "nbformat": 4,
  "nbformat_minor": 0,
  "metadata": {
    "colab": {
      "name": "analysis_panda7_excel.ipynb",
      "provenance": [],
      "mount_file_id": "11yAufr9mXcQuLHq7pcNuleUpWtr0TeFM",
      "authorship_tag": "ABX9TyNNHA3FKbTQwTWFGTa0HSl/",
      "include_colab_link": true
    },
    "kernelspec": {
      "name": "python3",
      "display_name": "Python 3"
    }
  },
  "cells": [
    {
      "cell_type": "markdown",
      "metadata": {
        "id": "view-in-github",
        "colab_type": "text"
      },
      "source": [
        "<a href=\"https://colab.research.google.com/github/gabrielalastra/PYTHON/blob/master/analysis_panda7_excel.ipynb\" target=\"_parent\"><img src=\"https://colab.research.google.com/assets/colab-badge.svg\" alt=\"Open In Colab\"/></a>"
      ]
    },
    {
      "cell_type": "markdown",
      "metadata": {
        "id": "CFzllwO8INtW"
      },
      "source": [
        "Trabalhando com arquivos Excel e panda\n",
        "os parametros mais populares :\n",
        "\n",
        "* filepath: Path of the file to be read.\n",
        "\n",
        "* sheet_name: Strings are used for sheet names. Integers are used in zero-indexed sheet positions. Lists of strings/integers are used to request multiple sheets. Specify None to get all sheets.\n",
        "\n",
        "* header: Index of the row containing the names of the columns (None if none).\n",
        "\n",
        "* index_col: Index of the column or sequence of indexes that should be used as index of rows of the data.\n",
        "\n",
        "* names: Sequence containing the names of the columns (used together with header = None).\n",
        "\n",
        "* skiprows: Number of rows or sequence of row indexes to ignore in the load.\n",
        "\n",
        "* na_values: Sequence of values that, if found in the file, should be treated as NaN.\n",
        "\n",
        "* dtype: Dictionary in which the keys will be column names and the values will be types of NumPy to which their content must be converted.\n",
        "\n",
        "* parse_dates: Flag that indicates if Python should try to parse data with a format similar to dates as dates. You can enter a list of column names that must be joined for the parsing as a date.\n",
        "\n",
        "* date_parser: Function to use to try to parse dates.\n",
        "\n",
        "* nrows: Number of rows to read from the beginning of the file.\n",
        "\n",
        "* skip_footer: Number of rows to ignore at the end of the file.\n",
        "\n",
        "* squeeze: Flag that indicates that if the data read only contains one column the result is a Series instead of a DataFrame.\n",
        "\n",
        "* thousands: Character to use to detect the thousands separator.\n",
        "\n",
        "\n",
        "\n",
        "\n",
        "\n",
        "para mais info: https://pandas.pydata.org/pandas-docs/stable/reference/api/pandas.read_excel.html\n"
      ]
    },
    {
      "cell_type": "code",
      "metadata": {
        "id": "dJpSajlmH1Rd"
      },
      "source": [
        "import pandas as pd"
      ],
      "execution_count": 1,
      "outputs": []
    },
    {
      "cell_type": "code",
      "metadata": {
        "id": "tEuBi2eWI8aA"
      },
      "source": [
        "fpath = ('/content/drive/MyDrive/ColabNotebooks/products.xlsx')"
      ],
      "execution_count": 2,
      "outputs": []
    },
    {
      "cell_type": "code",
      "metadata": {
        "id": "7wis9fUYJNdP"
      },
      "source": [
        "pd.read_excel(fpath, header=None).head()"
      ],
      "execution_count": null,
      "outputs": []
    },
    {
      "cell_type": "code",
      "metadata": {
        "colab": {
          "base_uri": "https://localhost:8080/"
        },
        "id": "EhiJ_Tp8Jk5v",
        "outputId": "53056978-38ec-47ee-da74-46c09e0ae182"
      },
      "source": [
        "pd.read_excel(fpath, index_col=[0]).info() \n",
        "#definindo coluna do index\n",
        "#tente trocar o info por describe"
      ],
      "execution_count": 11,
      "outputs": [
        {
          "output_type": "stream",
          "text": [
            "<class 'pandas.core.frame.DataFrame'>\n",
            "Index: 1245 entries, AVphzgbJLJeJML43fA0o to AVpgibRDLJeJML43PTZX\n",
            "Data columns (total 4 columns):\n",
            " #   Column       Non-Null Count  Dtype  \n",
            "---  ------       --------------  -----  \n",
            " 0   price        1245 non-null   float64\n",
            " 1   merchant_id  1245 non-null   int64  \n",
            " 2   brand        1245 non-null   object \n",
            " 3   name         1245 non-null   object \n",
            "dtypes: float64(1), int64(1), object(2)\n",
            "memory usage: 48.6+ KB\n"
          ],
          "name": "stdout"
        }
      ]
    },
    {
      "cell_type": "code",
      "metadata": {
        "colab": {
          "base_uri": "https://localhost:8080/"
        },
        "id": "TUB2-A7OJWW0",
        "outputId": "bcba8499-8e84-4359-cd98-b0a16f30b896"
      },
      "source": [
        "#como no arquivo excel tem varias planilhas\n",
        "#sao elas Products, Descriptions, Merchants\n",
        "#para tentar outra, troque o index por =[0]\n",
        "#podemos separar a que vamos usar usando o parametro sheet_name\n",
        "produtos = pd.read_excel(fpath,\n",
        "                         sheet_name='Products',\n",
        "                         index_col='product_id')\n",
        "produtos.info()"
      ],
      "execution_count": 18,
      "outputs": [
        {
          "output_type": "stream",
          "text": [
            "<class 'pandas.core.frame.DataFrame'>\n",
            "Index: 1245 entries, AVphzgbJLJeJML43fA0o to AVpgibRDLJeJML43PTZX\n",
            "Data columns (total 4 columns):\n",
            " #   Column       Non-Null Count  Dtype  \n",
            "---  ------       --------------  -----  \n",
            " 0   price        1245 non-null   float64\n",
            " 1   merchant_id  1245 non-null   int64  \n",
            " 2   brand        1245 non-null   object \n",
            " 3   name         1245 non-null   object \n",
            "dtypes: float64(1), int64(1), object(2)\n",
            "memory usage: 48.6+ KB\n"
          ],
          "name": "stdout"
        }
      ]
    },
    {
      "cell_type": "code",
      "metadata": {
        "id": "0OHklsFgKvIt"
      },
      "source": [
        "#abrindo excel com outro paramentro\n",
        "excel_files = pd.ExcelFile(fpath)"
      ],
      "execution_count": 19,
      "outputs": []
    },
    {
      "cell_type": "code",
      "metadata": {
        "colab": {
          "base_uri": "https://localhost:8080/"
        },
        "id": "4WtG31s7MatY",
        "outputId": "b0bd27b2-bc53-44e9-91f9-48cd12c62f23"
      },
      "source": [
        "excel_files.sheet_names"
      ],
      "execution_count": 20,
      "outputs": [
        {
          "output_type": "execute_result",
          "data": {
            "text/plain": [
              "['Products', 'Descriptions', 'Merchants']"
            ]
          },
          "metadata": {
            "tags": []
          },
          "execution_count": 20
        }
      ]
    },
    {
      "cell_type": "code",
      "metadata": {
        "id": "_6wBmxBAMdKa"
      },
      "source": [
        "produtos2 = excel_files.parse('Products', index_col=[0], header=0) #separa uma das tabelas\n",
        "produtos2.head()"
      ],
      "execution_count": null,
      "outputs": []
    },
    {
      "cell_type": "code",
      "metadata": {
        "colab": {
          "base_uri": "https://localhost:8080/",
          "height": 235
        },
        "id": "d7xoHvmMVDr0",
        "outputId": "f602beef-69fc-496c-aa41-3e5140da9a00"
      },
      "source": [
        "merch2 = excel_files.parse('Merchants', index_col=[0])\n",
        "merch2.head()"
      ],
      "execution_count": 41,
      "outputs": [
        {
          "output_type": "execute_result",
          "data": {
            "text/html": [
              "<div>\n",
              "<style scoped>\n",
              "    .dataframe tbody tr th:only-of-type {\n",
              "        vertical-align: middle;\n",
              "    }\n",
              "\n",
              "    .dataframe tbody tr th {\n",
              "        vertical-align: top;\n",
              "    }\n",
              "\n",
              "    .dataframe thead th {\n",
              "        text-align: right;\n",
              "    }\n",
              "</style>\n",
              "<table border=\"1\" class=\"dataframe\">\n",
              "  <thead>\n",
              "    <tr style=\"text-align: right;\">\n",
              "      <th></th>\n",
              "      <th>merchant</th>\n",
              "    </tr>\n",
              "    <tr>\n",
              "      <th>merchant_id</th>\n",
              "      <th></th>\n",
              "    </tr>\n",
              "  </thead>\n",
              "  <tbody>\n",
              "    <tr>\n",
              "      <th>1001</th>\n",
              "      <td>Bestbuy.com</td>\n",
              "    </tr>\n",
              "    <tr>\n",
              "      <th>1002</th>\n",
              "      <td>Walmart.com</td>\n",
              "    </tr>\n",
              "    <tr>\n",
              "      <th>1003</th>\n",
              "      <td>Bestbuy.com</td>\n",
              "    </tr>\n",
              "    <tr>\n",
              "      <th>1004</th>\n",
              "      <td>Growkart</td>\n",
              "    </tr>\n",
              "    <tr>\n",
              "      <th>1005</th>\n",
              "      <td>bhphotovideo.com</td>\n",
              "    </tr>\n",
              "  </tbody>\n",
              "</table>\n",
              "</div>"
            ],
            "text/plain": [
              "                     merchant\n",
              "merchant_id                  \n",
              "1001              Bestbuy.com\n",
              "1002              Walmart.com\n",
              "1003              Bestbuy.com\n",
              "1004                 Growkart\n",
              "1005         bhphotovideo.com"
            ]
          },
          "metadata": {
            "tags": []
          },
          "execution_count": 41
        }
      ]
    },
    {
      "cell_type": "code",
      "metadata": {
        "colab": {
          "base_uri": "https://localhost:8080/"
        },
        "id": "HPqF_ffJMlb2",
        "outputId": "2daf481b-6ece-4f2d-8d0b-3d94f0ed7c0e"
      },
      "source": [
        "produtos2.dtypes"
      ],
      "execution_count": 28,
      "outputs": [
        {
          "output_type": "execute_result",
          "data": {
            "text/plain": [
              "price          float64\n",
              "merchant_id      int64\n",
              "brand           object\n",
              "name            object\n",
              "dtype: object"
            ]
          },
          "metadata": {
            "tags": []
          },
          "execution_count": 28
        }
      ]
    },
    {
      "cell_type": "code",
      "metadata": {
        "id": "K5H8NzbhM8ya"
      },
      "source": [
        "#para salvar\n",
        "produtos2.to_excel('teste.xlsx',\n",
        "                   sheet_name='Produtos'\n",
        "                   #,startrow=1, #espaçamento\n",
        "                   #startcol=2\n",
        "                   )"
      ],
      "execution_count": 37,
      "outputs": []
    },
    {
      "cell_type": "code",
      "metadata": {
        "colab": {
          "base_uri": "https://localhost:8080/",
          "height": 374
        },
        "id": "WsJ6BduYNOEI",
        "outputId": "de6ab95e-eedf-4986-c64b-b2f1b88d7cfa"
      },
      "source": [
        "pd.read_excel('teste.xlsx').head()"
      ],
      "execution_count": 38,
      "outputs": [
        {
          "output_type": "execute_result",
          "data": {
            "text/html": [
              "<div>\n",
              "<style scoped>\n",
              "    .dataframe tbody tr th:only-of-type {\n",
              "        vertical-align: middle;\n",
              "    }\n",
              "\n",
              "    .dataframe tbody tr th {\n",
              "        vertical-align: top;\n",
              "    }\n",
              "\n",
              "    .dataframe thead th {\n",
              "        text-align: right;\n",
              "    }\n",
              "</style>\n",
              "<table border=\"1\" class=\"dataframe\">\n",
              "  <thead>\n",
              "    <tr style=\"text-align: right;\">\n",
              "      <th></th>\n",
              "      <th>product_id</th>\n",
              "      <th>price</th>\n",
              "      <th>merchant_id</th>\n",
              "      <th>brand</th>\n",
              "      <th>name</th>\n",
              "    </tr>\n",
              "  </thead>\n",
              "  <tbody>\n",
              "    <tr>\n",
              "      <th>0</th>\n",
              "      <td>AVphzgbJLJeJML43fA0o</td>\n",
              "      <td>104.99</td>\n",
              "      <td>1001</td>\n",
              "      <td>Sanus</td>\n",
              "      <td>Sanus VLF410B1 10-Inch Super Slim Full-Motion ...</td>\n",
              "    </tr>\n",
              "    <tr>\n",
              "      <th>1</th>\n",
              "      <td>AVpgMuGwLJeJML43KY_c</td>\n",
              "      <td>69.00</td>\n",
              "      <td>1002</td>\n",
              "      <td>Boytone</td>\n",
              "      <td>Boytone - 2500W 2.1-Ch. Home Theater System - ...</td>\n",
              "    </tr>\n",
              "    <tr>\n",
              "      <th>2</th>\n",
              "      <td>AVpe9FXeLJeJML43zHrq</td>\n",
              "      <td>23.99</td>\n",
              "      <td>1001</td>\n",
              "      <td>DENAQ</td>\n",
              "      <td>DENAQ - AC Adapter for TOSHIBA SATELLITE</td>\n",
              "    </tr>\n",
              "    <tr>\n",
              "      <th>3</th>\n",
              "      <td>AVpfVJXu1cnluZ0-iwTT</td>\n",
              "      <td>290.99</td>\n",
              "      <td>1001</td>\n",
              "      <td>DreamWave</td>\n",
              "      <td>DreamWave - Tremor Portable Bluetooth Speaker ...</td>\n",
              "    </tr>\n",
              "    <tr>\n",
              "      <th>4</th>\n",
              "      <td>AVphUeKeilAPnD_x3-Be</td>\n",
              "      <td>244.01</td>\n",
              "      <td>1004</td>\n",
              "      <td>Yamaha</td>\n",
              "      <td>NS-SP1800BL 5.1-Channel Home Theater System (B...</td>\n",
              "    </tr>\n",
              "  </tbody>\n",
              "</table>\n",
              "</div>"
            ],
            "text/plain": [
              "             product_id  ...                                               name\n",
              "0  AVphzgbJLJeJML43fA0o  ...  Sanus VLF410B1 10-Inch Super Slim Full-Motion ...\n",
              "1  AVpgMuGwLJeJML43KY_c  ...  Boytone - 2500W 2.1-Ch. Home Theater System - ...\n",
              "2  AVpe9FXeLJeJML43zHrq  ...           DENAQ - AC Adapter for TOSHIBA SATELLITE\n",
              "3  AVpfVJXu1cnluZ0-iwTT  ...  DreamWave - Tremor Portable Bluetooth Speaker ...\n",
              "4  AVphUeKeilAPnD_x3-Be  ...  NS-SP1800BL 5.1-Channel Home Theater System (B...\n",
              "\n",
              "[5 rows x 5 columns]"
            ]
          },
          "metadata": {
            "tags": []
          },
          "execution_count": 38
        }
      ]
    },
    {
      "cell_type": "code",
      "metadata": {
        "id": "XX8zglhuNTCJ"
      },
      "source": [
        "#para salvar varias listas\n",
        "with pd.ExcelWriter('teste.xlsx') as writer:\n",
        "  produtos2.to_excel(writer, sheet_name='Produtos')\n",
        "  merch2.to_excel(writer, sheet_name='Merchan')"
      ],
      "execution_count": 43,
      "outputs": []
    },
    {
      "cell_type": "code",
      "metadata": {
        "id": "UO1IZ337Vo10"
      },
      "source": [
        ""
      ],
      "execution_count": null,
      "outputs": []
    }
  ]
}