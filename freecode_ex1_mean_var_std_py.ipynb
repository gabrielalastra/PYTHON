{
  "nbformat": 4,
  "nbformat_minor": 0,
  "metadata": {
    "colab": {
      "name": "freecode_ex1_mean_var_std.py",
      "provenance": [],
      "collapsed_sections": [],
      "authorship_tag": "ABX9TyPnqKqi6txu4bZ+RC1Zj4+0",
      "include_colab_link": true
    },
    "kernelspec": {
      "name": "python3",
      "display_name": "Python 3"
    }
  },
  "cells": [
    {
      "cell_type": "markdown",
      "metadata": {
        "id": "view-in-github",
        "colab_type": "text"
      },
      "source": [
        "<a href=\"https://colab.research.google.com/github/gabrielalastra/PYTHON/blob/master/freecode_ex1_mean_var_std_py.ipynb\" target=\"_parent\"><img src=\"https://colab.research.google.com/assets/colab-badge.svg\" alt=\"Open In Colab\"/></a>"
      ]
    },
    {
      "cell_type": "markdown",
      "metadata": {
        "id": "11emQmr4hjZC"
      },
      "source": [
        "Exercício\n",
        "\n",
        "Criar um vetor com 9 elementos e não aceita menos elementos\n",
        "\n",
        "transformar em matriz 3x3\n",
        "\n",
        "Criar uma função que calcula:\n",
        " - media aritmetica, \n",
        " - variancia, \n",
        " - desvio padrao, \n",
        " - max e min\n",
        "\n",
        "Imprimir um dicionario com os valores indicados para coluna, linhas e todos os elementos."
      ]
    },
    {
      "cell_type": "code",
      "metadata": {
        "id": "6RCYrmXOQBU8"
      },
      "source": [
        "import numpy as np"
      ],
      "execution_count": 2,
      "outputs": []
    },
    {
      "cell_type": "code",
      "metadata": {
        "id": "2aBr_yIQct8G"
      },
      "source": [
        "x=[]"
      ],
      "execution_count": 26,
      "outputs": []
    },
    {
      "cell_type": "code",
      "metadata": {
        "colab": {
          "base_uri": "https://localhost:8080/"
        },
        "id": "n7bcvfaJbexb",
        "outputId": "ffadd1fa-56a6-4ace-c14a-881c7db03946"
      },
      "source": [
        "def createlist(x):\n",
        "  i=0\n",
        "  n=9\n",
        "  while i<n:\n",
        "    z = input('the element: ')\n",
        "    if z.isnumeric():\n",
        "      x.append(z)\n",
        "      i+=1\n",
        "    else:\n",
        "      print('The list must containing 9 digits')\n",
        "  return x\n",
        "\n",
        "createlist(x)"
      ],
      "execution_count": 27,
      "outputs": [
        {
          "output_type": "stream",
          "text": [
            "the element: 1\n",
            "the element: 2\n",
            "the element: 33\n",
            "the element: 43\n",
            "the element: 2\n",
            "the element: 12\n",
            "the element: 3\n",
            "the element: 12\n",
            "the element: 43\n"
          ],
          "name": "stdout"
        },
        {
          "output_type": "execute_result",
          "data": {
            "text/plain": [
              "['1', '2', '33', '43', '2', '12', '3', '12', '43']"
            ]
          },
          "metadata": {
            "tags": []
          },
          "execution_count": 27
        }
      ]
    },
    {
      "cell_type": "code",
      "metadata": {
        "colab": {
          "base_uri": "https://localhost:8080/"
        },
        "id": "Rv0kKQjNblGz",
        "outputId": "15b6dddf-03a0-4303-8ca7-0407a3c9ea07"
      },
      "source": [
        "x"
      ],
      "execution_count": 28,
      "outputs": [
        {
          "output_type": "execute_result",
          "data": {
            "text/plain": [
              "['1', '2', '33', '43', '2', '12', '3', '12', '43']"
            ]
          },
          "metadata": {
            "tags": []
          },
          "execution_count": 28
        }
      ]
    },
    {
      "cell_type": "code",
      "metadata": {
        "colab": {
          "base_uri": "https://localhost:8080/"
        },
        "id": "RCdglGkTQMcP",
        "outputId": "8d04cf8d-4319-48fe-b94a-6f09c9d9b2ef"
      },
      "source": [
        "x = np.array(x).reshape(3,3)\n",
        "x"
      ],
      "execution_count": 29,
      "outputs": [
        {
          "output_type": "execute_result",
          "data": {
            "text/plain": [
              "array([['1', '2', '33'],\n",
              "       ['43', '2', '12'],\n",
              "       ['3', '12', '43']], dtype='<U2')"
            ]
          },
          "metadata": {
            "tags": []
          },
          "execution_count": 29
        }
      ]
    },
    {
      "cell_type": "code",
      "metadata": {
        "colab": {
          "base_uri": "https://localhost:8080/"
        },
        "id": "aI_ZkHTTR7l7",
        "outputId": "87b3e84e-20d9-42a0-974f-6f045af9b357"
      },
      "source": [
        "#mean\n",
        "mean_c = np.mean(x, axis=0)\n",
        "mean_r = np.mean(x, axis=1)\n",
        "mean_e = np.mean(x)"
      ],
      "execution_count": 6,
      "outputs": [
        {
          "output_type": "execute_result",
          "data": {
            "text/plain": [
              "array([4., 5., 6.])"
            ]
          },
          "metadata": {
            "tags": []
          },
          "execution_count": 6
        }
      ]
    },
    {
      "cell_type": "code",
      "metadata": {
        "id": "1--RubZgSCga"
      },
      "source": [
        "#variance and standard desviation\n",
        "var_c = np.var(x, axis=0)\n",
        "var_r = np.var(x, axis=1)\n",
        "var_e = np.var(x)\n",
        "std_c = np.std(x, axis=0)\n",
        "std_r = np.std(x, axis=1)\n",
        "std_e = np.std(x)\n"
      ],
      "execution_count": 7,
      "outputs": []
    },
    {
      "cell_type": "code",
      "metadata": {
        "id": "Pzgx_1y1ZScj"
      },
      "source": [
        "#max&min\n",
        "max_c = np.max(x, axis=0)\n",
        "max_r = np.max(x, axis=1)\n",
        "max_e = np.max(x)\n",
        "min_c = np.min(x, axis=0)\n",
        "min_r = np.min(x, axis=1)\n",
        "min_e = np.min(x)"
      ],
      "execution_count": 9,
      "outputs": []
    },
    {
      "cell_type": "code",
      "metadata": {
        "colab": {
          "base_uri": "https://localhost:8080/"
        },
        "id": "bkldsowXQWLy",
        "outputId": "f8d0333f-eee7-42ff-8b48-26876921b7fe"
      },
      "source": [
        "#calculate\n",
        "def calculate(x):\n",
        "  dict={ \n",
        "      'mean' : [mean_r, mean_c, mean_e],\n",
        "      'var' : [var_r, var_c, var_e],\n",
        "      'std' : [std_r, std_c, std_e],\n",
        "      'max' : [max_r, max_c, max_e],\n",
        "      'min' : [min_r, min_c, min_e]\n",
        "  }\n",
        "  return dict\n",
        "\n",
        "calculate(x)"
      ],
      "execution_count": 12,
      "outputs": [
        {
          "output_type": "execute_result",
          "data": {
            "text/plain": [
              "{'max': [array([3, 6, 9]), array([7, 8, 9]), 9],\n",
              " 'mean': [array([2., 5., 8.]), array([4., 5., 6.]), 5.0],\n",
              " 'min': [array([1, 4, 7]), array([1, 2, 3]), 1],\n",
              " 'std': [array([0.81649658, 0.81649658, 0.81649658]),\n",
              "  array([2.44948974, 2.44948974, 2.44948974]),\n",
              "  2.581988897471611],\n",
              " 'var': [array([0.66666667, 0.66666667, 0.66666667]),\n",
              "  array([6., 6., 6.]),\n",
              "  6.666666666666667]}"
            ]
          },
          "metadata": {
            "tags": []
          },
          "execution_count": 12
        }
      ]
    },
    {
      "cell_type": "code",
      "metadata": {
        "id": "nhvzXGExQsU3"
      },
      "source": [
        ""
      ],
      "execution_count": null,
      "outputs": []
    }
  ]
}