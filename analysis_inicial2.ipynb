{
  "nbformat": 4,
  "nbformat_minor": 0,
  "metadata": {
    "colab": {
      "name": "analysis_inicial2",
      "provenance": [],
      "authorship_tag": "ABX9TyPrsKexNeu4L+YzTtTNRW3w",
      "include_colab_link": true
    },
    "kernelspec": {
      "name": "python3",
      "display_name": "Python 3"
    }
  },
  "cells": [
    {
      "cell_type": "markdown",
      "metadata": {
        "id": "view-in-github",
        "colab_type": "text"
      },
      "source": [
        "<a href=\"https://colab.research.google.com/github/gabrielalastra/PYTHON/blob/master/analysis_inicial2.ipynb\" target=\"_parent\"><img src=\"https://colab.research.google.com/assets/colab-badge.svg\" alt=\"Open In Colab\"/></a>"
      ]
    },
    {
      "cell_type": "code",
      "metadata": {
        "id": "z18JgocT0Iyz"
      },
      "source": [
        "#comencando o curso de data analysis\n",
        "#importanto bibliotecas\n",
        "import pandas as pd\n",
        "import numpy as np\n",
        "#esse e online\n",
        "import matplotlib.pyplot as plt\n"
      ],
      "execution_count": null,
      "outputs": []
    },
    {
      "cell_type": "code",
      "metadata": {
        "id": "wP9tzgkj3D-d"
      },
      "source": [
        "#so le nao imprime nada\n",
        "arquivo = pd.read_csv('/content/drive/MyDrive/ColabNotebooks/sales_data.csv', parse_dates=['Date'])"
      ],
      "execution_count": null,
      "outputs": []
    },
    {
      "cell_type": "code",
      "metadata": {
        "id": "GgwOOEcE8K8P"
      },
      "source": [
        "arquivo.head()\n",
        "#um jeito de ver o arquivo, parecido com excel"
      ],
      "execution_count": null,
      "outputs": []
    },
    {
      "cell_type": "code",
      "metadata": {
        "colab": {
          "base_uri": "https://localhost:8080/"
        },
        "id": "MvnEU6nx8tme",
        "outputId": "edac9547-3b23-45ce-9a27-0de9a963011b"
      },
      "source": [
        "#detalhes de colunas e linhas\n",
        "arquivo.shape"
      ],
      "execution_count": null,
      "outputs": [
        {
          "output_type": "execute_result",
          "data": {
            "text/plain": [
              "(113036, 18)"
            ]
          },
          "metadata": {
            "tags": []
          },
          "execution_count": 21
        }
      ]
    },
    {
      "cell_type": "code",
      "metadata": {
        "id": "kU4A5nz184Gn"
      },
      "source": [
        "arquivo.info()\n",
        "#informacoes do arquivo"
      ],
      "execution_count": null,
      "outputs": []
    },
    {
      "cell_type": "code",
      "metadata": {
        "id": "No5DsJ1z9Bzz"
      },
      "source": [
        "arquivo.describe()\n",
        "#algumas informacoes estatisticas\n",
        "#precisa verificar algumas coisas que talvez possam ser um erro\n",
        "#como um numero muito fora do padrao"
      ],
      "execution_count": null,
      "outputs": []
    },
    {
      "cell_type": "code",
      "metadata": {
        "id": "wR2hud5x9Qax"
      },
      "source": [
        "arquivo['Unit_Cost'].describe()\n",
        "#descricao de uma unica coluna"
      ],
      "execution_count": null,
      "outputs": []
    },
    {
      "cell_type": "code",
      "metadata": {
        "id": "aOw2w7nU9qhR"
      },
      "source": [
        " arquivo['Unit_Cost'].mean()\n"
      ],
      "execution_count": null,
      "outputs": []
    },
    {
      "cell_type": "code",
      "metadata": {
        "colab": {
          "base_uri": "https://localhost:8080/"
        },
        "id": "RSuPhZx693oT",
        "outputId": "53f6f419-5d24-4220-ec11-736f570df292"
      },
      "source": [
        "arquivo['Unit_Cost'].median()"
      ],
      "execution_count": null,
      "outputs": [
        {
          "output_type": "execute_result",
          "data": {
            "text/plain": [
              "9.0"
            ]
          },
          "metadata": {
            "tags": []
          },
          "execution_count": 27
        }
      ]
    },
    {
      "cell_type": "code",
      "metadata": {
        "id": "jGOlbf75-Vbj"
      },
      "source": [
        "#o retangulo mostra o primeiro e terceiro quarta parte da media\n",
        "#os pontos mostram os outliers\n",
        "arquivo['Unit_Cost'].plot(kind='box', vert=False, figsize=(14,6))"
      ],
      "execution_count": null,
      "outputs": []
    },
    {
      "cell_type": "code",
      "metadata": {
        "id": "I10t_46H-uYJ"
      },
      "source": [
        "arquivo['Unit_Cost'].plot(kind='density', figsize=(14,6)) "
      ],
      "execution_count": null,
      "outputs": []
    },
    {
      "cell_type": "code",
      "metadata": {
        "id": "b3X1TH3eAmfM"
      },
      "source": [
        "ax = arquivo['Unit_Cost'].plot(kind='density', figsize=(14,6))\n",
        "ax.axvline(arquivo['Unit_Cost'].mean(), color='red')\n",
        "ax.axvline(arquivo['Unit_Cost'].median(), color='green')\n",
        "\n",
        "#visualizacao da media e mediana "
      ],
      "execution_count": null,
      "outputs": []
    },
    {
      "cell_type": "code",
      "metadata": {
        "id": "4_kGjHQrB7kR"
      },
      "source": [
        "#visualizacao dos precos em histagrama\n",
        "ax = arquivo['Unit_Cost'].plot(kind='hist', figsize=(14,6))\n",
        "ax.set_ylabel('Numero de vendas')\n",
        "ax.set_xlabel('dolares')"
      ],
      "execution_count": null,
      "outputs": []
    },
    {
      "cell_type": "code",
      "metadata": {
        "id": "xwhkwo4YCmyL"
      },
      "source": [
        "#idade dos consumidores\n",
        "arquivo['Age_Group'].value_counts()\n"
      ],
      "execution_count": null,
      "outputs": []
    },
    {
      "cell_type": "code",
      "metadata": {
        "id": "wh04vL6cDSui"
      },
      "source": [
        "#visualizar idade em pizza\n",
        "arquivo['Age_Group'].value_counts().plot(kind='pie', figsize=(6,6))"
      ],
      "execution_count": null,
      "outputs": []
    },
    {
      "cell_type": "code",
      "metadata": {
        "id": "GXh6i_1zDWte"
      },
      "source": [
        "#relacao com numero de vendas\n",
        "ax = arquivo['Age_Group'].value_counts().plot(kind='bar', figsize=(14,6))\n",
        "ax.set_ylabel('numero de vendas')"
      ],
      "execution_count": null,
      "outputs": []
    },
    {
      "cell_type": "code",
      "metadata": {
        "id": "5WPAVL62D1H-"
      },
      "source": [
        "#correlacoes\n",
        "corr=arquivo.corr()\n",
        "corr"
      ],
      "execution_count": null,
      "outputs": []
    },
    {
      "cell_type": "code",
      "metadata": {
        "id": "PM_yo2W3EG_h"
      },
      "source": [
        "#matrix de correlacoes com azul para altas relacoes e vermelho para baixa\n",
        "fig= plt.figure(figsize=(8,8))\n",
        "plt.matshow(corr, cmap='RdBu', fignum=fig.number)\n",
        "plt.xticks(range(len(corr.columns)), corr.columns, rotation='vertical')\n",
        "plt.yticks(range(len(corr.columns)), corr.columns)"
      ],
      "execution_count": null,
      "outputs": []
    },
    {
      "cell_type": "code",
      "metadata": {
        "id": "zIFcXHWYG-RG"
      },
      "source": [
        "arquivo.plot(kind='scatter', x='Customer_Age', y='Revenue', figsize=(8,8))\n",
        "#para ver se tem relacao entre os dois"
      ],
      "execution_count": null,
      "outputs": []
    },
    {
      "cell_type": "code",
      "metadata": {
        "id": "0-f8Bg2DHigz"
      },
      "source": [
        "arquivo.plot(kind='scatter', x='Revenue', y='Profit', figsize=(8,8))\n",
        "#relacao clara por uma linha diagonal"
      ],
      "execution_count": null,
      "outputs": []
    },
    {
      "cell_type": "code",
      "metadata": {
        "colab": {
          "base_uri": "https://localhost:8080/",
          "height": 198
        },
        "id": "mhs6qksKHu94",
        "outputId": "b0c6c280-0469-4c8a-f93c-a895d7404df2"
      },
      "source": [
        "ax = arquivo[['Profit', 'Age_Group']].boxplot(by='Age_Group', figsize=(10,8))\n",
        "ax.set_ylabel('Profit')\n",
        "#boxplot para relacionar perfil e idade"
      ],
      "execution_count": null,
      "outputs": [
        {
          "output_type": "error",
          "ename": "NameError",
          "evalue": "ignored",
          "traceback": [
            "\u001b[0;31m---------------------------------------------------------------------------\u001b[0m",
            "\u001b[0;31mNameError\u001b[0m                                 Traceback (most recent call last)",
            "\u001b[0;32m<ipython-input-3-2e2829aacc21>\u001b[0m in \u001b[0;36m<module>\u001b[0;34m()\u001b[0m\n\u001b[0;32m----> 1\u001b[0;31m \u001b[0max\u001b[0m \u001b[0;34m=\u001b[0m \u001b[0marquivo\u001b[0m\u001b[0;34m[\u001b[0m\u001b[0;34m[\u001b[0m\u001b[0;34m'Profit'\u001b[0m\u001b[0;34m,\u001b[0m \u001b[0;34m'Age_Group'\u001b[0m\u001b[0;34m]\u001b[0m\u001b[0;34m]\u001b[0m\u001b[0;34m.\u001b[0m\u001b[0mboxplot\u001b[0m\u001b[0;34m(\u001b[0m\u001b[0mby\u001b[0m\u001b[0;34m=\u001b[0m\u001b[0;34m'Age_Group'\u001b[0m\u001b[0;34m,\u001b[0m \u001b[0mfigsize\u001b[0m\u001b[0;34m=\u001b[0m\u001b[0;34m(\u001b[0m\u001b[0;36m10\u001b[0m\u001b[0;34m,\u001b[0m\u001b[0;36m8\u001b[0m\u001b[0;34m)\u001b[0m\u001b[0;34m)\u001b[0m\u001b[0;34m\u001b[0m\u001b[0;34m\u001b[0m\u001b[0m\n\u001b[0m\u001b[1;32m      2\u001b[0m \u001b[0max\u001b[0m\u001b[0;34m.\u001b[0m\u001b[0mset_ylabel\u001b[0m\u001b[0;34m(\u001b[0m\u001b[0;34m'Profit'\u001b[0m\u001b[0;34m)\u001b[0m\u001b[0;34m\u001b[0m\u001b[0;34m\u001b[0m\u001b[0m\n\u001b[1;32m      3\u001b[0m \u001b[0;31m#boxplot para relacionar perfil e idade\u001b[0m\u001b[0;34m\u001b[0m\u001b[0;34m\u001b[0m\u001b[0;34m\u001b[0m\u001b[0m\n",
            "\u001b[0;31mNameError\u001b[0m: name 'arquivo' is not defined"
          ]
        }
      ]
    },
    {
      "cell_type": "code",
      "metadata": {
        "id": "5mAR24pnIUnf"
      },
      "source": [
        "boxplot_col = ['Year', 'Customer_Age', 'Unit_Cost', 'Profit']\n",
        "arquivo[boxplot_col].plot(kind='box', subplots=True, layout=(2,2), figsize=(10,10))"
      ],
      "execution_count": null,
      "outputs": []
    },
    {
      "cell_type": "code",
      "metadata": {
        "id": "hkZcGPX9lKP5"
      },
      "source": [
        "#criando uma nova coluna com uma relacao entre duas\n",
        "arquivo['Revenue_per_Age'] = arquivo['Revenue']/ arquivo['Customer_Age']\n",
        "arquivo['Revenue_per_Age'].head()"
      ],
      "execution_count": null,
      "outputs": []
    },
    {
      "cell_type": "code",
      "metadata": {
        "id": "k-_4it5Ql9lk"
      },
      "source": [
        "arquivo['Revenue_per_Age'].plot(kind='density', figsize=(14,6))"
      ],
      "execution_count": null,
      "outputs": []
    },
    {
      "cell_type": "code",
      "metadata": {
        "id": "R_YV9bWomLFv"
      },
      "source": [
        "arquivo['Revenue_per_Age'].plot(kind='hist', figsize=(6,6))"
      ],
      "execution_count": null,
      "outputs": []
    },
    {
      "cell_type": "code",
      "metadata": {
        "id": "5sDew20BmfFp"
      },
      "source": [
        "#calculando o custo\n",
        "arquivo['Cal_Cost'] = arquivo['Order_Quantity'] * arquivo['Unit_Cost']\n",
        "arquivo['Cal_Cost'].head()"
      ],
      "execution_count": null,
      "outputs": []
    },
    {
      "cell_type": "code",
      "metadata": {
        "colab": {
          "base_uri": "https://localhost:8080/"
        },
        "id": "-Q34jhvnm8fE",
        "outputId": "adc03153-de32-485b-959c-f3b90e3ab4f3"
      },
      "source": [
        "#verificar se tem algum erro entre o custo fornecido pelo data e o que estamos calculando\n",
        "(arquivo['Cal_Cost'] != arquivo['Cost']).sum()"
      ],
      "execution_count": null,
      "outputs": [
        {
          "output_type": "execute_result",
          "data": {
            "text/plain": [
              "0"
            ]
          },
          "metadata": {
            "tags": []
          },
          "execution_count": 11
        }
      ]
    },
    {
      "cell_type": "code",
      "metadata": {
        "colab": {
          "base_uri": "https://localhost:8080/"
        },
        "id": "e9DidZOSoCNd",
        "outputId": "51ed029e-5da4-40d1-a9b2-b2e756d0b5bf"
      },
      "source": [
        "arquivo['Cal_Revenue'] = arquivo['Cost'] + arquivo['Profit']\n",
        "arquivo['Cal_Revenue'].head()"
      ],
      "execution_count": null,
      "outputs": [
        {
          "output_type": "execute_result",
          "data": {
            "text/plain": [
              "0     950\n",
              "1     950\n",
              "2    2401\n",
              "3    2088\n",
              "4     418\n",
              "Name: Cal_Revenue, dtype: int64"
            ]
          },
          "metadata": {
            "tags": []
          },
          "execution_count": 14
        }
      ]
    },
    {
      "cell_type": "code",
      "metadata": {
        "colab": {
          "base_uri": "https://localhost:8080/"
        },
        "id": "WBBNTCQKoetO",
        "outputId": "1ca91342-02c8-4765-e259-e78ff4d7072f"
      },
      "source": [
        "(arquivo['Cal_Revenue'] != arquivo['Revenue']).sum()"
      ],
      "execution_count": null,
      "outputs": [
        {
          "output_type": "execute_result",
          "data": {
            "text/plain": [
              "0"
            ]
          },
          "metadata": {
            "tags": []
          },
          "execution_count": 15
        }
      ]
    },
    {
      "cell_type": "code",
      "metadata": {
        "id": "78coqpj_o42s"
      },
      "source": [
        "arquivo['Unit_Price'] += 1.03\n",
        "arquivo['Unit_Price'].head()"
      ],
      "execution_count": null,
      "outputs": []
    },
    {
      "cell_type": "code",
      "metadata": {
        "id": "xqN_zP50rLKu"
      },
      "source": [
        "arquivo.loc[arquivo['Age_Group'] == 'Adults (35-64)', 'Revenue'].mean()"
      ],
      "execution_count": null,
      "outputs": []
    },
    {
      "cell_type": "code",
      "metadata": {
        "colab": {
          "base_uri": "https://localhost:8080/"
        },
        "id": "AjR_RS6orhbF",
        "outputId": "472da756-034a-439b-ee87-7921d9385c1f"
      },
      "source": [
        "arquivo.loc[(arquivo['Age_Group'] == 'youth (<25)') | (arquivo['Age_Group'] == 'Adults (35-64)')].shape[0]"
      ],
      "execution_count": null,
      "outputs": [
        {
          "output_type": "execute_result",
          "data": {
            "text/plain": [
              "55824"
            ]
          },
          "metadata": {
            "tags": []
          },
          "execution_count": 19
        }
      ]
    },
    {
      "cell_type": "code",
      "metadata": {
        "colab": {
          "base_uri": "https://localhost:8080/"
        },
        "id": "GAE9Ij4Ms9eq",
        "outputId": "457bffb5-8faa-4be2-b497-550473681358"
      },
      "source": [
        "#receita media das vendas do grupo Adulto 35-64 nos EUA\n",
        "arquivo.loc[(arquivo['Age_Group'] == 'Adults (35-64)') & (arquivo['Country'] == 'United States'), 'Revenue'].mean()"
      ],
      "execution_count": null,
      "outputs": [
        {
          "output_type": "execute_result",
          "data": {
            "text/plain": [
              "726.7260473588342"
            ]
          },
          "metadata": {
            "tags": []
          },
          "execution_count": 21
        }
      ]
    },
    {
      "cell_type": "code",
      "metadata": {
        "colab": {
          "base_uri": "https://localhost:8080/"
        },
        "id": "OtS8xQMhyuD2",
        "outputId": "d5751bda-3756-4174-b44d-f60eb8003fc1"
      },
      "source": [
        "#acresentar 10% na receita das vendas feitas na franca\n",
        "#como era antes\n",
        "arquivo.loc[arquivo['Country'] == 'France', 'Revenue'].head()"
      ],
      "execution_count": null,
      "outputs": [
        {
          "output_type": "execute_result",
          "data": {
            "text/plain": [
              "50     788.1\n",
              "51     788.1\n",
              "52    2958.1\n",
              "53    2852.1\n",
              "60     627.1\n",
              "Name: Revenue, dtype: float64"
            ]
          },
          "metadata": {
            "tags": []
          },
          "execution_count": 25
        }
      ]
    },
    {
      "cell_type": "code",
      "metadata": {
        "id": "VcsLk8MBzU8S"
      },
      "source": [
        "#calculo\n",
        "arquivo.loc[arquivo['Country'] == 'France', 'Revenue'] *= 1.1"
      ],
      "execution_count": null,
      "outputs": []
    },
    {
      "cell_type": "code",
      "metadata": {
        "colab": {
          "base_uri": "https://localhost:8080/"
        },
        "id": "K4_5YAY9zqJz",
        "outputId": "f534d1e2-649a-447d-8c32-f9cbdfb58e4f"
      },
      "source": [
        "#depois\n",
        "arquivo.loc[arquivo['Country'] == 'France', 'Revenue'].head()"
      ],
      "execution_count": null,
      "outputs": [
        {
          "output_type": "execute_result",
          "data": {
            "text/plain": [
              "50     868.12\n",
              "51     868.12\n",
              "52    3255.12\n",
              "53    3138.52\n",
              "60     691.02\n",
              "Name: Revenue, dtype: float64"
            ]
          },
          "metadata": {
            "tags": []
          },
          "execution_count": 29
        }
      ]
    }
  ]
}