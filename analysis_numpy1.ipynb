{
  "nbformat": 4,
  "nbformat_minor": 0,
  "metadata": {
    "colab": {
      "name": "analysis_numpy1.ipynb",
      "provenance": [],
      "authorship_tag": "ABX9TyMrzA1PdxTzWezQA9Fshyaj",
      "include_colab_link": true
    },
    "kernelspec": {
      "name": "python3",
      "display_name": "Python 3"
    }
  },
  "cells": [
    {
      "cell_type": "markdown",
      "metadata": {
        "id": "view-in-github",
        "colab_type": "text"
      },
      "source": [
        "<a href=\"https://colab.research.google.com/github/gabrielalastra/PYTHON/blob/master/analysis_numpy1.ipynb\" target=\"_parent\"><img src=\"https://colab.research.google.com/assets/colab-badge.svg\" alt=\"Open In Colab\"/></a>"
      ]
    },
    {
      "cell_type": "code",
      "metadata": {
        "id": "FSePzd_ZEEHu"
      },
      "source": [
        "#usando numpy\n",
        "import sys\n",
        "import numpy as np"
      ],
      "execution_count": null,
      "outputs": []
    },
    {
      "cell_type": "code",
      "metadata": {
        "id": "jNEUlOkATwk9"
      },
      "source": [
        "a = np.array([1,2,3,4])"
      ],
      "execution_count": null,
      "outputs": []
    },
    {
      "cell_type": "code",
      "metadata": {
        "id": "75D66sUVTzxC"
      },
      "source": [
        "b = np.array([0, 0.5, 1, 1.5, 2])"
      ],
      "execution_count": null,
      "outputs": []
    },
    {
      "cell_type": "code",
      "metadata": {
        "colab": {
          "base_uri": "https://localhost:8080/"
        },
        "id": "6UxXOqbLUH9Q",
        "outputId": "4879800f-af49-4717-f97c-40575dbf0528"
      },
      "source": [
        "#retorna o elemento que esta na posicao\n",
        "a[0], a[2], a[0:], a[1:3], a[1:-1], a[::2]"
      ],
      "execution_count": null,
      "outputs": [
        {
          "output_type": "execute_result",
          "data": {
            "text/plain": [
              "(1, 3, array([1, 2, 3, 4]), array([2, 3]), array([2, 3]), array([1, 3]))"
            ]
          },
          "metadata": {
            "tags": []
          },
          "execution_count": 8
        }
      ]
    },
    {
      "cell_type": "code",
      "metadata": {
        "colab": {
          "base_uri": "https://localhost:8080/"
        },
        "id": "YYpNwZ7YUglU",
        "outputId": "510b8bb0-f3c1-4a7b-ecf2-4f7a54bfd35a"
      },
      "source": [
        "#o elemento -1 eh a ultima posicao\n",
        "b, b[0], b[-1], b[-2], b[[0,2,-1]]"
      ],
      "execution_count": null,
      "outputs": [
        {
          "output_type": "execute_result",
          "data": {
            "text/plain": [
              "(array([0. , 0.5, 1. , 1.5, 2. ]), 0.0, 2.0, 1.5, array([0., 1., 2.]))"
            ]
          },
          "metadata": {
            "tags": []
          },
          "execution_count": 11
        }
      ]
    },
    {
      "cell_type": "code",
      "metadata": {
        "colab": {
          "base_uri": "https://localhost:8080/"
        },
        "id": "vyQKf6bKVbcp",
        "outputId": "eec39250-2a4e-4b10-e328-62cfcbe2d6c6"
      },
      "source": [
        "#tipo de A e B\n",
        "a.dtype\n"
      ],
      "execution_count": null,
      "outputs": [
        {
          "output_type": "execute_result",
          "data": {
            "text/plain": [
              "dtype('int64')"
            ]
          },
          "metadata": {
            "tags": []
          },
          "execution_count": 14
        }
      ]
    },
    {
      "cell_type": "code",
      "metadata": {
        "colab": {
          "base_uri": "https://localhost:8080/"
        },
        "id": "NhYAsH9FjasJ",
        "outputId": "19128206-47a7-4c50-f032-41cec9a5023b"
      },
      "source": [
        "b.dtype"
      ],
      "execution_count": null,
      "outputs": [
        {
          "output_type": "execute_result",
          "data": {
            "text/plain": [
              "dtype('float64')"
            ]
          },
          "metadata": {
            "tags": []
          },
          "execution_count": 15
        }
      ]
    },
    {
      "cell_type": "code",
      "metadata": {
        "colab": {
          "base_uri": "https://localhost:8080/"
        },
        "id": "wVIrETuDjdAN",
        "outputId": "a3769578-c815-4c45-d887-b3ff5417df8a"
      },
      "source": [
        "#convertendo em numero fracionado\n",
        "np.array([a], dtype=np.float)"
      ],
      "execution_count": null,
      "outputs": [
        {
          "output_type": "execute_result",
          "data": {
            "text/plain": [
              "array([[1., 2., 3., 4.]])"
            ]
          },
          "metadata": {
            "tags": []
          },
          "execution_count": 16
        }
      ]
    },
    {
      "cell_type": "code",
      "metadata": {
        "colab": {
          "base_uri": "https://localhost:8080/"
        },
        "id": "NfA7LfkSjwz_",
        "outputId": "a6101b3a-68ef-4f53-88f0-b93e7253b97d"
      },
      "source": [
        "#convertendo float em numero com 8bytes de memoria de armazenagem\n",
        "np.array([b], dtype=np.int8)"
      ],
      "execution_count": null,
      "outputs": [
        {
          "output_type": "execute_result",
          "data": {
            "text/plain": [
              "array([[0, 0, 1, 1, 2]], dtype=int8)"
            ]
          },
          "metadata": {
            "tags": []
          },
          "execution_count": 17
        }
      ]
    },
    {
      "cell_type": "code",
      "metadata": {
        "id": "XiAS7WDRkUen"
      },
      "source": [
        "c = np.array(['a','b','c'])"
      ],
      "execution_count": null,
      "outputs": []
    },
    {
      "cell_type": "code",
      "metadata": {
        "colab": {
          "base_uri": "https://localhost:8080/"
        },
        "id": "30lwAjBtlwFm",
        "outputId": "52ae2f1f-80a8-48b2-8652-98c022c3d264"
      },
      "source": [
        "c.dtype"
      ],
      "execution_count": null,
      "outputs": [
        {
          "output_type": "execute_result",
          "data": {
            "text/plain": [
              "dtype('<U1')"
            ]
          },
          "metadata": {
            "tags": []
          },
          "execution_count": 19
        }
      ]
    },
    {
      "cell_type": "code",
      "metadata": {
        "id": "OcuFA6WwlzpT"
      },
      "source": [
        "A = np.array([\n",
        "              [1,2,3],\n",
        "              [4,5,6]\n",
        "])"
      ],
      "execution_count": null,
      "outputs": []
    },
    {
      "cell_type": "code",
      "metadata": {
        "colab": {
          "base_uri": "https://localhost:8080/"
        },
        "id": "R42Sm-jel-N1",
        "outputId": "59163bff-bb44-4c89-a5ba-85d1e9694c2c"
      },
      "source": [
        "#linhas e colunas\n",
        "A.shape"
      ],
      "execution_count": null,
      "outputs": [
        {
          "output_type": "execute_result",
          "data": {
            "text/plain": [
              "(2, 3)"
            ]
          },
          "metadata": {
            "tags": []
          },
          "execution_count": 23
        }
      ]
    },
    {
      "cell_type": "code",
      "metadata": {
        "colab": {
          "base_uri": "https://localhost:8080/"
        },
        "id": "xgB6j8p5mCI8",
        "outputId": "aaf190f4-5daa-40f5-d4db-11f38a37a8a0"
      },
      "source": [
        "#quantas dimensoes, no caso, vertical e horizontal\n",
        "A.ndim"
      ],
      "execution_count": null,
      "outputs": [
        {
          "output_type": "execute_result",
          "data": {
            "text/plain": [
              "2"
            ]
          },
          "metadata": {
            "tags": []
          },
          "execution_count": 24
        }
      ]
    },
    {
      "cell_type": "code",
      "metadata": {
        "colab": {
          "base_uri": "https://localhost:8080/"
        },
        "id": "dPPuyeCNmkBn",
        "outputId": "22a83244-7cf2-4359-abdd-ea1eece4f97a"
      },
      "source": [
        "#quantos elementos tem em A\n",
        "A.size"
      ],
      "execution_count": null,
      "outputs": [
        {
          "output_type": "execute_result",
          "data": {
            "text/plain": [
              "6"
            ]
          },
          "metadata": {
            "tags": []
          },
          "execution_count": 25
        }
      ]
    },
    {
      "cell_type": "code",
      "metadata": {
        "id": "eKmkTq1RmqDS"
      },
      "source": [
        "#criando um arranjo 3D como um cubo\n",
        "B = np.array([\n",
        "              [\n",
        "                [12, 220, 22],\n",
        "                [9,80,99]\n",
        "              ],\n",
        "              [\n",
        "                [6,4,3],\n",
        "                [3,2,1]\n",
        "              ]\n",
        "])"
      ],
      "execution_count": null,
      "outputs": []
    },
    {
      "cell_type": "code",
      "metadata": {
        "colab": {
          "base_uri": "https://localhost:8080/"
        },
        "id": "k_0qofSmnT7d",
        "outputId": "1abee184-32a3-4f2f-ac7d-8b09b5956b58"
      },
      "source": [
        "B"
      ],
      "execution_count": null,
      "outputs": [
        {
          "output_type": "execute_result",
          "data": {
            "text/plain": [
              "array([[[ 12, 220,  22],\n",
              "        [  9,  80,  99]],\n",
              "\n",
              "       [[  6,   4,   3],\n",
              "        [  3,   2,   1]]])"
            ]
          },
          "metadata": {
            "tags": []
          },
          "execution_count": 30
        }
      ]
    },
    {
      "cell_type": "code",
      "metadata": {
        "colab": {
          "base_uri": "https://localhost:8080/"
        },
        "id": "6N5J2ag9nWBr",
        "outputId": "6aa383bb-506f-4b75-b2bd-c81a83f5cec4"
      },
      "source": [
        "B.shape #linhas, colunas e dimensoes"
      ],
      "execution_count": null,
      "outputs": [
        {
          "output_type": "execute_result",
          "data": {
            "text/plain": [
              "(2, 2, 3)"
            ]
          },
          "metadata": {
            "tags": []
          },
          "execution_count": 31
        }
      ]
    },
    {
      "cell_type": "code",
      "metadata": {
        "colab": {
          "base_uri": "https://localhost:8080/"
        },
        "id": "GhX0uK1MnXit",
        "outputId": "413f7356-28a8-4947-c73f-c8dad697ceae"
      },
      "source": [
        "B.ndim"
      ],
      "execution_count": null,
      "outputs": [
        {
          "output_type": "execute_result",
          "data": {
            "text/plain": [
              "3"
            ]
          },
          "metadata": {
            "tags": []
          },
          "execution_count": 32
        }
      ]
    },
    {
      "cell_type": "code",
      "metadata": {
        "id": "iLsCrs--nZjl"
      },
      "source": [
        "B.size"
      ],
      "execution_count": null,
      "outputs": []
    },
    {
      "cell_type": "code",
      "metadata": {
        "colab": {
          "base_uri": "https://localhost:8080/"
        },
        "id": "BHM22RPqpfBt",
        "outputId": "ea11cece-c244-46af-a4f5-3d95014af03b"
      },
      "source": [
        "#caso as dimensoes nao batam\n",
        "C = np.array([\n",
        "              [\n",
        "               [12, 11, 10],\n",
        "               [9,8,7],\n",
        "              ],\n",
        "              [\n",
        "               [6,5,4]\n",
        "              ]\n",
        "])"
      ],
      "execution_count": null,
      "outputs": [
        {
          "output_type": "stream",
          "text": [
            "/usr/local/lib/python3.6/dist-packages/ipykernel_launcher.py:8: VisibleDeprecationWarning: Creating an ndarray from ragged nested sequences (which is a list-or-tuple of lists-or-tuples-or ndarrays with different lengths or shapes) is deprecated. If you meant to do this, you must specify 'dtype=object' when creating the ndarray\n",
            "  \n"
          ],
          "name": "stderr"
        }
      ]
    },
    {
      "cell_type": "code",
      "metadata": {
        "colab": {
          "base_uri": "https://localhost:8080/"
        },
        "id": "M80bwNy3p2dU",
        "outputId": "7fd7a0f9-e571-4626-db2d-25f7abbe6d9b"
      },
      "source": [
        "#o tipo fica como objeto\n",
        "C.dtype"
      ],
      "execution_count": null,
      "outputs": [
        {
          "output_type": "execute_result",
          "data": {
            "text/plain": [
              "dtype('O')"
            ]
          },
          "metadata": {
            "tags": []
          },
          "execution_count": 35
        }
      ]
    },
    {
      "cell_type": "code",
      "metadata": {
        "colab": {
          "base_uri": "https://localhost:8080/"
        },
        "id": "M-rd8uzwp5lo",
        "outputId": "db064c46-881a-4e41-b622-112ec09f1b36"
      },
      "source": [
        "C.shape"
      ],
      "execution_count": null,
      "outputs": [
        {
          "output_type": "execute_result",
          "data": {
            "text/plain": [
              "(2,)"
            ]
          },
          "metadata": {
            "tags": []
          },
          "execution_count": 36
        }
      ]
    },
    {
      "cell_type": "code",
      "metadata": {
        "colab": {
          "base_uri": "https://localhost:8080/"
        },
        "id": "cbggmNBxp7KD",
        "outputId": "5b8ddf27-d7de-431d-deab-e3ad507380c4"
      },
      "source": [
        "C.size"
      ],
      "execution_count": null,
      "outputs": [
        {
          "output_type": "execute_result",
          "data": {
            "text/plain": [
              "2"
            ]
          },
          "metadata": {
            "tags": []
          },
          "execution_count": 37
        }
      ]
    },
    {
      "cell_type": "code",
      "metadata": {
        "id": "ytF43Tk4rUJw"
      },
      "source": [
        "A = np.array([\n",
        "              #0 1 2\n",
        "              [1,2,3], #0\n",
        "              [4,5,6], #1\n",
        "              [7,8,9] #2\n",
        "])"
      ],
      "execution_count": null,
      "outputs": []
    },
    {
      "cell_type": "code",
      "metadata": {
        "id": "4Xi3OksHrldE"
      },
      "source": [
        "A[1]"
      ],
      "execution_count": null,
      "outputs": []
    },
    {
      "cell_type": "code",
      "metadata": {
        "id": "CsYZQ5-mrnGg"
      },
      "source": [
        "A[1][0]"
      ],
      "execution_count": null,
      "outputs": []
    },
    {
      "cell_type": "code",
      "metadata": {
        "id": "oLklghxRro1W"
      },
      "source": [
        "#A = [dimensao1, dimensao2, d3]\n",
        "A[1,0]"
      ],
      "execution_count": null,
      "outputs": []
    },
    {
      "cell_type": "code",
      "metadata": {
        "id": "_wGCKnXNrw3Q"
      },
      "source": [
        "A[0:2]"
      ],
      "execution_count": null,
      "outputs": []
    },
    {
      "cell_type": "code",
      "metadata": {
        "colab": {
          "base_uri": "https://localhost:8080/"
        },
        "id": "vM8NhDrwry5U",
        "outputId": "f061aff5-17db-4528-a826-212f4baf698b"
      },
      "source": [
        "A.ndim"
      ],
      "execution_count": null,
      "outputs": [
        {
          "output_type": "execute_result",
          "data": {
            "text/plain": [
              "2"
            ]
          },
          "metadata": {
            "tags": []
          },
          "execution_count": 40
        }
      ]
    },
    {
      "cell_type": "code",
      "metadata": {
        "colab": {
          "base_uri": "https://localhost:8080/"
        },
        "id": "-xF8DoX_r1qh",
        "outputId": "58fd08bd-faf9-4c6e-ac2c-c630281341aa"
      },
      "source": [
        "A[:,:2]"
      ],
      "execution_count": null,
      "outputs": [
        {
          "output_type": "execute_result",
          "data": {
            "text/plain": [
              "array([[1, 2],\n",
              "       [4, 5]])"
            ]
          },
          "metadata": {
            "tags": []
          },
          "execution_count": 41
        }
      ]
    },
    {
      "cell_type": "code",
      "metadata": {
        "colab": {
          "base_uri": "https://localhost:8080/"
        },
        "id": "9ZgMhFK9r6Tu",
        "outputId": "ce3b6f1e-aaa9-4a51-a5b5-aa29761c744d"
      },
      "source": [
        "A[:2,:1]"
      ],
      "execution_count": null,
      "outputs": [
        {
          "output_type": "execute_result",
          "data": {
            "text/plain": [
              "array([[1],\n",
              "       [4]])"
            ]
          },
          "metadata": {
            "tags": []
          },
          "execution_count": 44
        }
      ]
    },
    {
      "cell_type": "code",
      "metadata": {
        "colab": {
          "base_uri": "https://localhost:8080/"
        },
        "id": "BTngNg-8sB8J",
        "outputId": "a2e29f1b-2563-4d6a-deba-ef1b036ba733"
      },
      "source": [
        "A[:2,1:]"
      ],
      "execution_count": null,
      "outputs": [
        {
          "output_type": "execute_result",
          "data": {
            "text/plain": [
              "array([[2, 3],\n",
              "       [5, 6]])"
            ]
          },
          "metadata": {
            "tags": []
          },
          "execution_count": 46
        }
      ]
    },
    {
      "cell_type": "code",
      "metadata": {
        "id": "o1ooancTsKCm"
      },
      "source": [
        "#modificar a linha especificando\n",
        "A[1] = np.array([10,100,1000])"
      ],
      "execution_count": null,
      "outputs": []
    },
    {
      "cell_type": "code",
      "metadata": {
        "colab": {
          "base_uri": "https://localhost:8080/"
        },
        "id": "94leApFvtTUp",
        "outputId": "4137f615-a5d0-4335-d221-31993d7aa1ad"
      },
      "source": [
        "A"
      ],
      "execution_count": null,
      "outputs": [
        {
          "output_type": "execute_result",
          "data": {
            "text/plain": [
              "array([[ 1,  2,  3],\n",
              "       [10, 10, 10],\n",
              "       [ 7,  8,  9]])"
            ]
          },
          "metadata": {
            "tags": []
          },
          "execution_count": 51
        }
      ]
    },
    {
      "cell_type": "code",
      "metadata": {
        "id": "3e5AbzXftc-f"
      },
      "source": [
        "A[2] = 900 #geral"
      ],
      "execution_count": null,
      "outputs": []
    },
    {
      "cell_type": "code",
      "metadata": {
        "colab": {
          "base_uri": "https://localhost:8080/"
        },
        "id": "snJTCo3Ntgnk",
        "outputId": "1c502a12-146e-4229-bd2c-864f377f9b9f"
      },
      "source": [
        "A"
      ],
      "execution_count": null,
      "outputs": [
        {
          "output_type": "execute_result",
          "data": {
            "text/plain": [
              "array([[   1,    2,    3],\n",
              "       [  10,  100, 1000],\n",
              "       [ 900,  900,  900]])"
            ]
          },
          "metadata": {
            "tags": []
          },
          "execution_count": 55
        }
      ]
    },
    {
      "cell_type": "code",
      "metadata": {
        "colab": {
          "base_uri": "https://localhost:8080/"
        },
        "id": "uvZt3zAFuQjI",
        "outputId": "5cfa9b44-fb65-4263-e4ae-ba2f1597e6c3"
      },
      "source": [
        "A.sum()"
      ],
      "execution_count": null,
      "outputs": [
        {
          "output_type": "execute_result",
          "data": {
            "text/plain": [
              "3816"
            ]
          },
          "metadata": {
            "tags": []
          },
          "execution_count": 58
        }
      ]
    },
    {
      "cell_type": "code",
      "metadata": {
        "colab": {
          "base_uri": "https://localhost:8080/"
        },
        "id": "bEdT4b9auXpB",
        "outputId": "7225ba64-bf42-429d-ac27-12675b97bdcd"
      },
      "source": [
        "A.mean()"
      ],
      "execution_count": null,
      "outputs": [
        {
          "output_type": "execute_result",
          "data": {
            "text/plain": [
              "424.0"
            ]
          },
          "metadata": {
            "tags": []
          },
          "execution_count": 59
        }
      ]
    },
    {
      "cell_type": "code",
      "metadata": {
        "colab": {
          "base_uri": "https://localhost:8080/"
        },
        "id": "LUAp4UdfuZid",
        "outputId": "02a3ad36-00bb-45b9-b012-c14cc413e3d9"
      },
      "source": [
        "#desvio padrao\n",
        "A.std()"
      ],
      "execution_count": null,
      "outputs": [
        {
          "output_type": "execute_result",
          "data": {
            "text/plain": [
              "449.95431866900543"
            ]
          },
          "metadata": {
            "tags": []
          },
          "execution_count": 63
        }
      ]
    },
    {
      "cell_type": "code",
      "metadata": {
        "colab": {
          "base_uri": "https://localhost:8080/"
        },
        "id": "r8KGNfjku2Ci",
        "outputId": "1990d18c-ec01-4272-9988-4de0bdbd82e0"
      },
      "source": [
        "#variancia\n",
        "A.var()"
      ],
      "execution_count": null,
      "outputs": [
        {
          "output_type": "execute_result",
          "data": {
            "text/plain": [
              "202458.88888888888"
            ]
          },
          "metadata": {
            "tags": []
          },
          "execution_count": 64
        }
      ]
    },
    {
      "cell_type": "code",
      "metadata": {
        "colab": {
          "base_uri": "https://localhost:8080/"
        },
        "id": "iE6epxP4vZaq",
        "outputId": "bb91bd1d-7eb7-4890-f972-350692f0cd41"
      },
      "source": [
        "#somando a dimensao 0 que sao as colunas (Vert)\n",
        "A.sum(axis=0)"
      ],
      "execution_count": null,
      "outputs": [
        {
          "output_type": "execute_result",
          "data": {
            "text/plain": [
              "array([ 911, 1002, 1903])"
            ]
          },
          "metadata": {
            "tags": []
          },
          "execution_count": 65
        }
      ]
    },
    {
      "cell_type": "code",
      "metadata": {
        "colab": {
          "base_uri": "https://localhost:8080/"
        },
        "id": "0pKzU3n3v-qv",
        "outputId": "62a0b69a-362b-41a1-c601-61e3e41afff2"
      },
      "source": [
        "A.sum(axis=1) #somando a dimensao 1 que sao as linhas (Horz)"
      ],
      "execution_count": null,
      "outputs": [
        {
          "output_type": "execute_result",
          "data": {
            "text/plain": [
              "array([   6, 1110, 2700])"
            ]
          },
          "metadata": {
            "tags": []
          },
          "execution_count": 69
        }
      ]
    },
    {
      "cell_type": "code",
      "metadata": {
        "colab": {
          "base_uri": "https://localhost:8080/"
        },
        "id": "GLvRJh5zvhCo",
        "outputId": "bbf3efa6-fd55-489c-dbf7-2f618e69e2d3"
      },
      "source": [
        "A.mean(axis=1) #axis refere a dimensao"
      ],
      "execution_count": null,
      "outputs": [
        {
          "output_type": "execute_result",
          "data": {
            "text/plain": [
              "array([  2., 370., 900.])"
            ]
          },
          "metadata": {
            "tags": []
          },
          "execution_count": 66
        }
      ]
    },
    {
      "cell_type": "code",
      "metadata": {
        "colab": {
          "base_uri": "https://localhost:8080/"
        },
        "id": "jCZqM8Jyvm-2",
        "outputId": "0a84a561-a0b7-4c4d-8648-d5288287ee1a"
      },
      "source": [
        "A.std(axis=0)"
      ],
      "execution_count": null,
      "outputs": [
        {
          "output_type": "execute_result",
          "data": {
            "text/plain": [
              "array([421.68735127, 402.21718843, 448.28289679])"
            ]
          },
          "metadata": {
            "tags": []
          },
          "execution_count": 67
        }
      ]
    },
    {
      "cell_type": "code",
      "metadata": {
        "id": "nBbtoDa_v00I"
      },
      "source": [
        "#criando uma linha\n",
        "D = np.arange(4)"
      ],
      "execution_count": null,
      "outputs": []
    },
    {
      "cell_type": "code",
      "metadata": {
        "colab": {
          "base_uri": "https://localhost:8080/"
        },
        "id": "5HnjBIY73brj",
        "outputId": "1a08e689-22e4-4d27-f30f-5ff3b92dc87c"
      },
      "source": [
        "D"
      ],
      "execution_count": null,
      "outputs": [
        {
          "output_type": "execute_result",
          "data": {
            "text/plain": [
              "array([0, 1, 2, 3])"
            ]
          },
          "metadata": {
            "tags": []
          },
          "execution_count": 4
        }
      ]
    },
    {
      "cell_type": "code",
      "metadata": {
        "id": "ubyvnJQf3en2"
      },
      "source": [
        "#se colocar D + 100 vai mudar somente nessa cell\n",
        "#com D += 100 muda a linha toda\n",
        "#sem o np teria que fazer [i +100 for i in D]\n",
        "\n",
        "D +=100"
      ],
      "execution_count": null,
      "outputs": []
    },
    {
      "cell_type": "code",
      "metadata": {
        "colab": {
          "base_uri": "https://localhost:8080/"
        },
        "id": "q5IVGv1E3udN",
        "outputId": "810114ac-1a45-4c55-a284-ed06665efc74"
      },
      "source": [
        "D"
      ],
      "execution_count": null,
      "outputs": [
        {
          "output_type": "execute_result",
          "data": {
            "text/plain": [
              "array([100, 101, 102, 103])"
            ]
          },
          "metadata": {
            "tags": []
          },
          "execution_count": 7
        }
      ]
    },
    {
      "cell_type": "code",
      "metadata": {
        "id": "dntQVBqq4NNt"
      },
      "source": [
        "#fazendo uma matrix\n",
        "a = np.array(np.mat('1,2;3,4'))"
      ],
      "execution_count": null,
      "outputs": []
    },
    {
      "cell_type": "code",
      "metadata": {
        "colab": {
          "base_uri": "https://localhost:8080/"
        },
        "id": "VblmdB-24c7M",
        "outputId": "aef7de09-2238-4df7-aef2-6b5588f27e61"
      },
      "source": [
        "a"
      ],
      "execution_count": null,
      "outputs": [
        {
          "output_type": "execute_result",
          "data": {
            "text/plain": [
              "array([[1, 2],\n",
              "       [3, 4]])"
            ]
          },
          "metadata": {
            "tags": []
          },
          "execution_count": 21
        }
      ]
    },
    {
      "cell_type": "code",
      "metadata": {
        "id": "NGxc5iGF5QOq"
      },
      "source": [
        "b = np.array(np.mat('10,10;10,10'))"
      ],
      "execution_count": null,
      "outputs": []
    },
    {
      "cell_type": "code",
      "metadata": {
        "colab": {
          "base_uri": "https://localhost:8080/"
        },
        "id": "7XWQmFp45Vql",
        "outputId": "96f26a50-c697-4c0a-95f9-0b85884bc801"
      },
      "source": [
        "b"
      ],
      "execution_count": null,
      "outputs": [
        {
          "output_type": "execute_result",
          "data": {
            "text/plain": [
              "array([[10, 10],\n",
              "       [10, 10]])"
            ]
          },
          "metadata": {
            "tags": []
          },
          "execution_count": 23
        }
      ]
    },
    {
      "cell_type": "code",
      "metadata": {
        "colab": {
          "base_uri": "https://localhost:8080/"
        },
        "id": "abe628fI5Wua",
        "outputId": "474e1c70-c6d7-4998-aed4-db0f11346bbe"
      },
      "source": [
        "a * b"
      ],
      "execution_count": null,
      "outputs": [
        {
          "output_type": "execute_result",
          "data": {
            "text/plain": [
              "array([[10, 20],\n",
              "       [30, 40]])"
            ]
          },
          "metadata": {
            "tags": []
          },
          "execution_count": 24
        }
      ]
    },
    {
      "cell_type": "code",
      "metadata": {
        "id": "00p-igS96QFE"
      },
      "source": [
        "a2 = np.arange(4)"
      ],
      "execution_count": null,
      "outputs": []
    },
    {
      "cell_type": "code",
      "metadata": {
        "colab": {
          "base_uri": "https://localhost:8080/"
        },
        "id": "mHm5QjBL6hJS",
        "outputId": "297fd20d-4b55-4a13-ec4f-cf42c4f85259"
      },
      "source": [
        "a2"
      ],
      "execution_count": null,
      "outputs": [
        {
          "output_type": "execute_result",
          "data": {
            "text/plain": [
              "array([0, 1, 2, 3])"
            ]
          },
          "metadata": {
            "tags": []
          },
          "execution_count": 32
        }
      ]
    },
    {
      "cell_type": "code",
      "metadata": {
        "colab": {
          "base_uri": "https://localhost:8080/"
        },
        "id": "8BrLvCSw6x5p",
        "outputId": "fec9debe-0273-4995-9f69-e106a1ccc928"
      },
      "source": [
        "#boolean array\n",
        "a2[[True, False, False, True]]"
      ],
      "execution_count": null,
      "outputs": [
        {
          "output_type": "execute_result",
          "data": {
            "text/plain": [
              "array([0, 3])"
            ]
          },
          "metadata": {
            "tags": []
          },
          "execution_count": 33
        }
      ]
    },
    {
      "cell_type": "code",
      "metadata": {
        "colab": {
          "base_uri": "https://localhost:8080/"
        },
        "id": "_LGHScib62MY",
        "outputId": "2a192f3c-d889-4ee8-82df-a25a12d1bdd0"
      },
      "source": [
        "a2[[0,-1]]"
      ],
      "execution_count": null,
      "outputs": [
        {
          "output_type": "execute_result",
          "data": {
            "text/plain": [
              "array([0, 3])"
            ]
          },
          "metadata": {
            "tags": []
          },
          "execution_count": 34
        }
      ]
    },
    {
      "cell_type": "code",
      "metadata": {
        "colab": {
          "base_uri": "https://localhost:8080/"
        },
        "id": "mYZzdC_x6655",
        "outputId": "e40b4fdf-5b48-4ad6-c9b8-822f51a8e80e"
      },
      "source": [
        "a2 >= 2"
      ],
      "execution_count": null,
      "outputs": [
        {
          "output_type": "execute_result",
          "data": {
            "text/plain": [
              "array([False, False,  True,  True])"
            ]
          },
          "metadata": {
            "tags": []
          },
          "execution_count": 35
        }
      ]
    },
    {
      "cell_type": "code",
      "metadata": {
        "colab": {
          "base_uri": "https://localhost:8080/"
        },
        "id": "tIMydyG47B76",
        "outputId": "b0cd9945-eaf7-4760-ad52-4bca1a0878e4"
      },
      "source": [
        "a2[a2 >= 2]"
      ],
      "execution_count": null,
      "outputs": [
        {
          "output_type": "execute_result",
          "data": {
            "text/plain": [
              "array([2, 3])"
            ]
          },
          "metadata": {
            "tags": []
          },
          "execution_count": 36
        }
      ]
    },
    {
      "cell_type": "code",
      "metadata": {
        "colab": {
          "base_uri": "https://localhost:8080/"
        },
        "id": "wC8MCK2S7FLH",
        "outputId": "2a7b6c83-158c-4376-ac55-95da846bf2db"
      },
      "source": [
        "a.mean()"
      ],
      "execution_count": null,
      "outputs": [
        {
          "output_type": "execute_result",
          "data": {
            "text/plain": [
              "2.5"
            ]
          },
          "metadata": {
            "tags": []
          },
          "execution_count": 37
        }
      ]
    },
    {
      "cell_type": "code",
      "metadata": {
        "colab": {
          "base_uri": "https://localhost:8080/"
        },
        "id": "z-gUv5UF7Ie5",
        "outputId": "62271315-ee2f-4757-d6fa-94cda14fbdb0"
      },
      "source": [
        "a2[a2 > a2.mean()]"
      ],
      "execution_count": null,
      "outputs": [
        {
          "output_type": "execute_result",
          "data": {
            "text/plain": [
              "array([2, 3])"
            ]
          },
          "metadata": {
            "tags": []
          },
          "execution_count": 39
        }
      ]
    },
    {
      "cell_type": "code",
      "metadata": {
        "colab": {
          "base_uri": "https://localhost:8080/"
        },
        "id": "40sKya9y7RNx",
        "outputId": "1169a37d-0e4d-47d7-8aac-06765f529eb9"
      },
      "source": [
        "# o ~ marca a negacao\n",
        "a2[~(a2 > a2.mean())]"
      ],
      "execution_count": null,
      "outputs": [
        {
          "output_type": "execute_result",
          "data": {
            "text/plain": [
              "array([0, 1])"
            ]
          },
          "metadata": {
            "tags": []
          },
          "execution_count": 42
        }
      ]
    },
    {
      "cell_type": "code",
      "metadata": {
        "colab": {
          "base_uri": "https://localhost:8080/"
        },
        "id": "xu3f9XYA5bme",
        "outputId": "7b13ff4c-1711-45ed-e6f0-b2948a2f8acc"
      },
      "source": [
        "a2[(a2 == 0) | (a2 == 1)] # | or"
      ],
      "execution_count": null,
      "outputs": [
        {
          "output_type": "execute_result",
          "data": {
            "text/plain": [
              "array([0, 1])"
            ]
          },
          "metadata": {
            "tags": []
          },
          "execution_count": 43
        }
      ]
    },
    {
      "cell_type": "code",
      "metadata": {
        "colab": {
          "base_uri": "https://localhost:8080/"
        },
        "id": "s8rzCVJc9wcS",
        "outputId": "5786ad0f-ddcc-4863-fb5a-60f5da713663"
      },
      "source": [
        "a2[(a2 <=2) & (a2 %2 == 0)] # & and"
      ],
      "execution_count": null,
      "outputs": [
        {
          "output_type": "execute_result",
          "data": {
            "text/plain": [
              "array([0, 2])"
            ]
          },
          "metadata": {
            "tags": []
          },
          "execution_count": 45
        }
      ]
    },
    {
      "cell_type": "code",
      "metadata": {
        "id": "LDfy3FV_-otB"
      },
      "source": [
        "#matriz booleana\n",
        "\n",
        "B = np.random.randint(100, size=(3,3))"
      ],
      "execution_count": null,
      "outputs": []
    },
    {
      "cell_type": "code",
      "metadata": {
        "colab": {
          "base_uri": "https://localhost:8080/"
        },
        "id": "GjCmNzIT_BKJ",
        "outputId": "2cffe689-fc26-4c53-fea4-e82c53d4b5dd"
      },
      "source": [
        "B"
      ],
      "execution_count": null,
      "outputs": [
        {
          "output_type": "execute_result",
          "data": {
            "text/plain": [
              "array([[95, 18, 96],\n",
              "       [63,  4, 74],\n",
              "       [22, 79, 98]])"
            ]
          },
          "metadata": {
            "tags": []
          },
          "execution_count": 48
        }
      ]
    },
    {
      "cell_type": "code",
      "metadata": {
        "colab": {
          "base_uri": "https://localhost:8080/"
        },
        "id": "y6iS4j-2_FIm",
        "outputId": "348a459b-3239-407f-be3c-054ec97e4473"
      },
      "source": [
        "B > 30 #quais elementos sao maiores que 30"
      ],
      "execution_count": null,
      "outputs": [
        {
          "output_type": "execute_result",
          "data": {
            "text/plain": [
              "array([[ True, False,  True],\n",
              "       [ True, False,  True],\n",
              "       [False,  True,  True]])"
            ]
          },
          "metadata": {
            "tags": []
          },
          "execution_count": 49
        }
      ]
    },
    {
      "cell_type": "code",
      "metadata": {
        "colab": {
          "base_uri": "https://localhost:8080/"
        },
        "id": "1WxeEdzj_KFx",
        "outputId": "e1b169d2-4f02-44fa-9f52-5b6b9bed1b98"
      },
      "source": [
        "B[B > 30] #escreva os elementos maiores que 30\n",
        "# se quiser guardar var = B[B>30]"
      ],
      "execution_count": null,
      "outputs": [
        {
          "output_type": "execute_result",
          "data": {
            "text/plain": [
              "array([95, 96, 63, 74, 79, 98])"
            ]
          },
          "metadata": {
            "tags": []
          },
          "execution_count": 50
        }
      ]
    },
    {
      "cell_type": "code",
      "metadata": {
        "colab": {
          "base_uri": "https://localhost:8080/"
        },
        "id": "8h0cziBA_NOg",
        "outputId": "c34c8a89-1c8d-48fa-8e56-e2a370fe87b2"
      },
      "source": [
        "B <= 30"
      ],
      "execution_count": null,
      "outputs": [
        {
          "output_type": "execute_result",
          "data": {
            "text/plain": [
              "array([[False,  True, False],\n",
              "       [False,  True, False],\n",
              "       [ True, False, False]])"
            ]
          },
          "metadata": {
            "tags": []
          },
          "execution_count": 51
        }
      ]
    },
    {
      "cell_type": "code",
      "metadata": {
        "id": "31JvcO4-ByDE"
      },
      "source": [
        "\n",
        "A2 = np.array([\n",
        "    [1, 2, 3],\n",
        "    [4, 5, 6],\n",
        "    [7, 8, 9]\n",
        "])"
      ],
      "execution_count": null,
      "outputs": []
    },
    {
      "cell_type": "code",
      "metadata": {
        "id": "2_S0ZkUiCp60"
      },
      "source": [
        "\n",
        "B2 = np.array([\n",
        "    [6, 5],\n",
        "    [4, 3],\n",
        "    [2, 1]\n",
        "])"
      ],
      "execution_count": null,
      "outputs": []
    },
    {
      "cell_type": "code",
      "metadata": {
        "colab": {
          "base_uri": "https://localhost:8080/"
        },
        "id": "1yH-SVj_CuWs",
        "outputId": "ab386afc-dca8-45b4-8fe4-77d47ab9079a"
      },
      "source": [
        "A2.dot(B2)\n",
        "\n",
        "#produto escalar de dois arranjos\n",
        "#[[1*6+2*4+3*2, 1*5+2*3+3*1],\n",
        "# [4*6+5*4+6*2, 4*5+5*5+6*1],\n",
        "# [7*6+8*4+9*2, 7*5+8*3+9*1]]"
      ],
      "execution_count": null,
      "outputs": [
        {
          "output_type": "execute_result",
          "data": {
            "text/plain": [
              "array([[20, 14],\n",
              "       [56, 41],\n",
              "       [92, 68]])"
            ]
          },
          "metadata": {
            "tags": []
          },
          "execution_count": 54
        }
      ]
    },
    {
      "cell_type": "code",
      "metadata": {
        "colab": {
          "base_uri": "https://localhost:8080/"
        },
        "id": "MdRe5N7xHVa7",
        "outputId": "06dcdf64-ef28-4f5d-a553-20f41a9ab32f"
      },
      "source": [
        "A2@B2 #tbm pode ser escrito assim"
      ],
      "execution_count": null,
      "outputs": [
        {
          "output_type": "execute_result",
          "data": {
            "text/plain": [
              "array([[20, 14],\n",
              "       [56, 41],\n",
              "       [92, 68]])"
            ]
          },
          "metadata": {
            "tags": []
          },
          "execution_count": 55
        }
      ]
    },
    {
      "cell_type": "code",
      "metadata": {
        "colab": {
          "base_uri": "https://localhost:8080/"
        },
        "id": "J4IPXz32HhvX",
        "outputId": "826b537a-5ca2-4f4d-8b53-09528fb66980"
      },
      "source": [
        "B2.T #inverte linhas em colunas"
      ],
      "execution_count": null,
      "outputs": [
        {
          "output_type": "execute_result",
          "data": {
            "text/plain": [
              "array([[6, 4, 2],\n",
              "       [5, 3, 1]])"
            ]
          },
          "metadata": {
            "tags": []
          },
          "execution_count": 57
        }
      ]
    },
    {
      "cell_type": "code",
      "metadata": {
        "colab": {
          "base_uri": "https://localhost:8080/"
        },
        "id": "UgjyCgxiHhrT",
        "outputId": "c1628dae-5d10-4c52-ae1a-497647b9d387"
      },
      "source": [
        "B2.T @ A2"
      ],
      "execution_count": null,
      "outputs": [
        {
          "output_type": "execute_result",
          "data": {
            "text/plain": [
              "array([[36, 48, 60],\n",
              "       [24, 33, 42]])"
            ]
          },
          "metadata": {
            "tags": []
          },
          "execution_count": 59
        }
      ]
    },
    {
      "cell_type": "code",
      "metadata": {
        "colab": {
          "base_uri": "https://localhost:8080/"
        },
        "id": "2Tnh5bptMhca",
        "outputId": "40b13ce9-7bb8-44cb-a931-eac4e657e0ec"
      },
      "source": [
        "#numero em python precisam de no minimo 28 bytes pra cada numero\n",
        "sys.getsizeof(1)"
      ],
      "execution_count": null,
      "outputs": [
        {
          "output_type": "execute_result",
          "data": {
            "text/plain": [
              "28"
            ]
          },
          "metadata": {
            "tags": []
          },
          "execution_count": 61
        }
      ]
    },
    {
      "cell_type": "code",
      "metadata": {
        "colab": {
          "base_uri": "https://localhost:8080/"
        },
        "id": "E0PswJFUMp5U",
        "outputId": "90fb4396-e71e-441f-821c-389b0422a975"
      },
      "source": [
        "#com numpy o numero ocupa menos espaco da memoria ram, ocupando 8 bytes\n",
        "np.dtype(int).itemsize"
      ],
      "execution_count": null,
      "outputs": [
        {
          "output_type": "execute_result",
          "data": {
            "text/plain": [
              "8"
            ]
          },
          "metadata": {
            "tags": []
          },
          "execution_count": 62
        }
      ]
    },
    {
      "cell_type": "code",
      "metadata": {
        "colab": {
          "base_uri": "https://localhost:8080/"
        },
        "id": "1XCNu0cRM4sN",
        "outputId": "4cc34b7b-fd67-4c6c-90f5-3c27069c41ba"
      },
      "source": [
        "#para ficar menos ainda\n",
        "np.dtype(np.int8).itemsize"
      ],
      "execution_count": null,
      "outputs": [
        {
          "output_type": "execute_result",
          "data": {
            "text/plain": [
              "1"
            ]
          },
          "metadata": {
            "tags": []
          },
          "execution_count": 63
        }
      ]
    },
    {
      "cell_type": "code",
      "metadata": {
        "colab": {
          "base_uri": "https://localhost:8080/"
        },
        "id": "mtvSqgmTNCNk",
        "outputId": "8ba84d5a-df29-4056-b7b0-7e017909185c"
      },
      "source": [
        "np.dtype(float).itemsize"
      ],
      "execution_count": null,
      "outputs": [
        {
          "output_type": "execute_result",
          "data": {
            "text/plain": [
              "8"
            ]
          },
          "metadata": {
            "tags": []
          },
          "execution_count": 65
        }
      ]
    },
    {
      "cell_type": "code",
      "metadata": {
        "id": "kbKYu88bN1ec"
      },
      "source": [
        "#comparando a performance nao usando numpy\n",
        "l = list(range(10000))"
      ],
      "execution_count": null,
      "outputs": []
    },
    {
      "cell_type": "code",
      "metadata": {
        "colab": {
          "base_uri": "https://localhost:8080/"
        },
        "id": "DIiwNyAEN8mC",
        "outputId": "e21902f7-b57a-4191-8741-8d3aee7c6c11"
      },
      "source": [
        "%time sum([x **2 for x in l])"
      ],
      "execution_count": null,
      "outputs": [
        {
          "output_type": "stream",
          "text": [
            "CPU times: user 3.86 ms, sys: 0 ns, total: 3.86 ms\n",
            "Wall time: 6.2 ms\n"
          ],
          "name": "stdout"
        },
        {
          "output_type": "execute_result",
          "data": {
            "text/plain": [
              "333283335000"
            ]
          },
          "metadata": {
            "tags": []
          },
          "execution_count": 67
        }
      ]
    },
    {
      "cell_type": "code",
      "metadata": {
        "id": "tAe3HH9aOD-G"
      },
      "source": [
        "a = np.arange(10000)"
      ],
      "execution_count": null,
      "outputs": []
    },
    {
      "cell_type": "code",
      "metadata": {
        "colab": {
          "base_uri": "https://localhost:8080/"
        },
        "id": "4NR0NSPxOKv8",
        "outputId": "75d97a9c-6cd5-4b80-9d3a-8fd94b96c1b5"
      },
      "source": [
        "%time np.sum(a **2)"
      ],
      "execution_count": null,
      "outputs": [
        {
          "output_type": "stream",
          "text": [
            "CPU times: user 870 µs, sys: 0 ns, total: 870 µs\n",
            "Wall time: 867 µs\n"
          ],
          "name": "stdout"
        },
        {
          "output_type": "execute_result",
          "data": {
            "text/plain": [
              "333283335000"
            ]
          },
          "metadata": {
            "tags": []
          },
          "execution_count": 69
        }
      ]
    },
    {
      "cell_type": "markdown",
      "metadata": {
        "id": "TS_LfiRkObDZ"
      },
      "source": [
        "# funções do **numpy**"
      ]
    },
    {
      "cell_type": "code",
      "metadata": {
        "colab": {
          "base_uri": "https://localhost:8080/"
        },
        "id": "R8nkbmxEOauZ",
        "outputId": "4795e9a6-c829-44b9-956f-81d75e84b94c"
      },
      "source": [
        "np.random.random(size=2)"
      ],
      "execution_count": null,
      "outputs": [
        {
          "output_type": "execute_result",
          "data": {
            "text/plain": [
              "array([0.20420097, 0.38301217])"
            ]
          },
          "metadata": {
            "tags": []
          },
          "execution_count": 73
        }
      ]
    },
    {
      "cell_type": "code",
      "metadata": {
        "colab": {
          "base_uri": "https://localhost:8080/"
        },
        "id": "aWsOhl_3O46H",
        "outputId": "037c98da-f177-481e-baaa-c1eec8567803"
      },
      "source": [
        "np.random.normal(size=2)"
      ],
      "execution_count": null,
      "outputs": [
        {
          "output_type": "execute_result",
          "data": {
            "text/plain": [
              "array([-0.74943901, -0.48391462])"
            ]
          },
          "metadata": {
            "tags": []
          },
          "execution_count": 74
        }
      ]
    },
    {
      "cell_type": "code",
      "metadata": {
        "colab": {
          "base_uri": "https://localhost:8080/"
        },
        "id": "XtHf1Y5dO62n",
        "outputId": "7b8afc18-d144-4da3-d920-9811ac6c784c"
      },
      "source": [
        "np.random.rand(2,4)"
      ],
      "execution_count": null,
      "outputs": [
        {
          "output_type": "execute_result",
          "data": {
            "text/plain": [
              "array([[0.88056361, 0.62177079, 0.36705603, 0.85081567],\n",
              "       [0.6335869 , 0.1896769 , 0.92701604, 0.30900288]])"
            ]
          },
          "metadata": {
            "tags": []
          },
          "execution_count": 75
        }
      ]
    },
    {
      "cell_type": "code",
      "metadata": {
        "colab": {
          "base_uri": "https://localhost:8080/"
        },
        "id": "G5TXKqdkPegR",
        "outputId": "819e622d-9f2e-4981-f9f8-9f08d760ca07"
      },
      "source": [
        "np.arange(10)"
      ],
      "execution_count": null,
      "outputs": [
        {
          "output_type": "execute_result",
          "data": {
            "text/plain": [
              "array([0, 1, 2, 3, 4, 5, 6, 7, 8, 9])"
            ]
          },
          "metadata": {
            "tags": []
          },
          "execution_count": 76
        }
      ]
    },
    {
      "cell_type": "code",
      "metadata": {
        "colab": {
          "base_uri": "https://localhost:8080/"
        },
        "id": "R2np14RRQFvI",
        "outputId": "0fc1cf29-83eb-4609-d85a-4a6eae7da9ba"
      },
      "source": [
        "np.arange(5,10)"
      ],
      "execution_count": null,
      "outputs": [
        {
          "output_type": "execute_result",
          "data": {
            "text/plain": [
              "array([5, 6, 7, 8, 9])"
            ]
          },
          "metadata": {
            "tags": []
          },
          "execution_count": 77
        }
      ]
    },
    {
      "cell_type": "code",
      "metadata": {
        "colab": {
          "base_uri": "https://localhost:8080/"
        },
        "id": "ngQYB5-7QI25",
        "outputId": "52047f3c-8c88-4fbf-e576-cafc3b5d49d3"
      },
      "source": [
        "np.arange(0,1,.1)"
      ],
      "execution_count": null,
      "outputs": [
        {
          "output_type": "execute_result",
          "data": {
            "text/plain": [
              "array([0. , 0.1, 0.2, 0.3, 0.4, 0.5, 0.6, 0.7, 0.8, 0.9])"
            ]
          },
          "metadata": {
            "tags": []
          },
          "execution_count": 78
        }
      ]
    },
    {
      "cell_type": "code",
      "metadata": {
        "colab": {
          "base_uri": "https://localhost:8080/"
        },
        "id": "gxZMzP4qQNjK",
        "outputId": "c54b766e-a5c9-4b93-a580-69ed02a87e91"
      },
      "source": [
        "np.arange(10).reshape(2,5)"
      ],
      "execution_count": null,
      "outputs": [
        {
          "output_type": "execute_result",
          "data": {
            "text/plain": [
              "array([[0, 1, 2, 3, 4],\n",
              "       [5, 6, 7, 8, 9]])"
            ]
          },
          "metadata": {
            "tags": []
          },
          "execution_count": 81
        }
      ]
    },
    {
      "cell_type": "code",
      "metadata": {
        "colab": {
          "base_uri": "https://localhost:8080/"
        },
        "id": "kExpU24lQYdW",
        "outputId": "f5a2c7e4-66de-4844-e248-7107e0754814"
      },
      "source": [
        "np.arange(10).reshape(5,2)"
      ],
      "execution_count": null,
      "outputs": [
        {
          "output_type": "execute_result",
          "data": {
            "text/plain": [
              "array([[0, 1],\n",
              "       [2, 3],\n",
              "       [4, 5],\n",
              "       [6, 7],\n",
              "       [8, 9]])"
            ]
          },
          "metadata": {
            "tags": []
          },
          "execution_count": 88
        }
      ]
    },
    {
      "cell_type": "code",
      "metadata": {
        "colab": {
          "base_uri": "https://localhost:8080/"
        },
        "id": "wy6yIojmQoPl",
        "outputId": "9f7a982e-32fa-4697-b613-4b99471bdc97"
      },
      "source": [
        "np.linspace(0,1,5)"
      ],
      "execution_count": null,
      "outputs": [
        {
          "output_type": "execute_result",
          "data": {
            "text/plain": [
              "array([0.  , 0.25, 0.5 , 0.75, 1.  ])"
            ]
          },
          "metadata": {
            "tags": []
          },
          "execution_count": 89
        }
      ]
    },
    {
      "cell_type": "code",
      "metadata": {
        "colab": {
          "base_uri": "https://localhost:8080/"
        },
        "id": "D5PIB_NtQzYb",
        "outputId": "e67b1287-6868-40a3-dc68-66c5ba8d6835"
      },
      "source": [
        "np.linspace(0,1,20)"
      ],
      "execution_count": null,
      "outputs": [
        {
          "output_type": "execute_result",
          "data": {
            "text/plain": [
              "array([0.        , 0.05263158, 0.10526316, 0.15789474, 0.21052632,\n",
              "       0.26315789, 0.31578947, 0.36842105, 0.42105263, 0.47368421,\n",
              "       0.52631579, 0.57894737, 0.63157895, 0.68421053, 0.73684211,\n",
              "       0.78947368, 0.84210526, 0.89473684, 0.94736842, 1.        ])"
            ]
          },
          "metadata": {
            "tags": []
          },
          "execution_count": 90
        }
      ]
    },
    {
      "cell_type": "code",
      "metadata": {
        "colab": {
          "base_uri": "https://localhost:8080/"
        },
        "id": "OSnC6hamQ5cc",
        "outputId": "fb201239-d6c5-457a-bc06-5b0f5a1feffe"
      },
      "source": [
        "np.linspace(0,1,20,False)"
      ],
      "execution_count": null,
      "outputs": [
        {
          "output_type": "execute_result",
          "data": {
            "text/plain": [
              "array([0.  , 0.05, 0.1 , 0.15, 0.2 , 0.25, 0.3 , 0.35, 0.4 , 0.45, 0.5 ,\n",
              "       0.55, 0.6 , 0.65, 0.7 , 0.75, 0.8 , 0.85, 0.9 , 0.95])"
            ]
          },
          "metadata": {
            "tags": []
          },
          "execution_count": 91
        }
      ]
    },
    {
      "cell_type": "code",
      "metadata": {
        "colab": {
          "base_uri": "https://localhost:8080/"
        },
        "id": "FeIpKhriQ_g8",
        "outputId": "6832dae5-19b1-463e-ce5f-c0bab3d0bd5a"
      },
      "source": [
        "np.zeros(5)"
      ],
      "execution_count": null,
      "outputs": [
        {
          "output_type": "execute_result",
          "data": {
            "text/plain": [
              "array([0., 0., 0., 0., 0.])"
            ]
          },
          "metadata": {
            "tags": []
          },
          "execution_count": 92
        }
      ]
    },
    {
      "cell_type": "code",
      "metadata": {
        "colab": {
          "base_uri": "https://localhost:8080/"
        },
        "id": "bOAIRvH_RBwI",
        "outputId": "4f822f92-9ab5-469f-f14d-e13c7acc9c06"
      },
      "source": [
        "np.zeros((3,3))"
      ],
      "execution_count": null,
      "outputs": [
        {
          "output_type": "execute_result",
          "data": {
            "text/plain": [
              "array([[0., 0., 0.],\n",
              "       [0., 0., 0.],\n",
              "       [0., 0., 0.]])"
            ]
          },
          "metadata": {
            "tags": []
          },
          "execution_count": 93
        }
      ]
    },
    {
      "cell_type": "code",
      "metadata": {
        "colab": {
          "base_uri": "https://localhost:8080/"
        },
        "id": "TB75yRaOREG9",
        "outputId": "5552f744-71f4-43b2-afa2-dc219b4e4751"
      },
      "source": [
        "np.zeros((3,3), dtype=np.int)"
      ],
      "execution_count": null,
      "outputs": [
        {
          "output_type": "execute_result",
          "data": {
            "text/plain": [
              "array([[0, 0, 0],\n",
              "       [0, 0, 0],\n",
              "       [0, 0, 0]])"
            ]
          },
          "metadata": {
            "tags": []
          },
          "execution_count": 94
        }
      ]
    },
    {
      "cell_type": "code",
      "metadata": {
        "colab": {
          "base_uri": "https://localhost:8080/"
        },
        "id": "OT41pSdKRJaX",
        "outputId": "9423a922-144c-4e20-c28b-692dd7e360d7"
      },
      "source": [
        "np.ones(5)"
      ],
      "execution_count": null,
      "outputs": [
        {
          "output_type": "execute_result",
          "data": {
            "text/plain": [
              "array([1., 1., 1., 1., 1.])"
            ]
          },
          "metadata": {
            "tags": []
          },
          "execution_count": 95
        }
      ]
    },
    {
      "cell_type": "code",
      "metadata": {
        "colab": {
          "base_uri": "https://localhost:8080/"
        },
        "id": "Sy-thNhORMjx",
        "outputId": "edfed418-a45f-4e1c-9f06-10e7fc4c3afb"
      },
      "source": [
        "np.empty(5)"
      ],
      "execution_count": null,
      "outputs": [
        {
          "output_type": "execute_result",
          "data": {
            "text/plain": [
              "array([1., 1., 1., 1., 1.])"
            ]
          },
          "metadata": {
            "tags": []
          },
          "execution_count": 96
        }
      ]
    },
    {
      "cell_type": "code",
      "metadata": {
        "colab": {
          "base_uri": "https://localhost:8080/"
        },
        "id": "Z-dX_8HQRPJZ",
        "outputId": "8904aa4b-3251-400d-a266-05308d6c905a"
      },
      "source": [
        "np.empty((2,2))"
      ],
      "execution_count": null,
      "outputs": [
        {
          "output_type": "execute_result",
          "data": {
            "text/plain": [
              "array([[0.25, 0.5 ],\n",
              "       [0.75, 1.  ]])"
            ]
          },
          "metadata": {
            "tags": []
          },
          "execution_count": 97
        }
      ]
    },
    {
      "cell_type": "code",
      "metadata": {
        "colab": {
          "base_uri": "https://localhost:8080/"
        },
        "id": "j__ih1NqRUiK",
        "outputId": "bc81158b-3157-43d7-bf74-57f2230d67fe"
      },
      "source": [
        "np.identity(3)"
      ],
      "execution_count": null,
      "outputs": [
        {
          "output_type": "execute_result",
          "data": {
            "text/plain": [
              "array([[1., 0., 0.],\n",
              "       [0., 1., 0.],\n",
              "       [0., 0., 1.]])"
            ]
          },
          "metadata": {
            "tags": []
          },
          "execution_count": 98
        }
      ]
    },
    {
      "cell_type": "code",
      "metadata": {
        "colab": {
          "base_uri": "https://localhost:8080/"
        },
        "id": "Us1zJoEpRXj2",
        "outputId": "fc31311d-a7d3-4852-df0b-65b09c392293"
      },
      "source": [
        "np.eye(3,3)"
      ],
      "execution_count": null,
      "outputs": [
        {
          "output_type": "execute_result",
          "data": {
            "text/plain": [
              "array([[1., 0., 0.],\n",
              "       [0., 1., 0.],\n",
              "       [0., 0., 1.]])"
            ]
          },
          "metadata": {
            "tags": []
          },
          "execution_count": 99
        }
      ]
    },
    {
      "cell_type": "code",
      "metadata": {
        "colab": {
          "base_uri": "https://localhost:8080/"
        },
        "id": "dkjR4BuTRaLN",
        "outputId": "f403f83e-76fb-4a5c-b2af-1a3cddf2e0b2"
      },
      "source": [
        "np.eye(8,4)"
      ],
      "execution_count": null,
      "outputs": [
        {
          "output_type": "execute_result",
          "data": {
            "text/plain": [
              "array([[1., 0., 0., 0.],\n",
              "       [0., 1., 0., 0.],\n",
              "       [0., 0., 1., 0.],\n",
              "       [0., 0., 0., 1.],\n",
              "       [0., 0., 0., 0.],\n",
              "       [0., 0., 0., 0.],\n",
              "       [0., 0., 0., 0.],\n",
              "       [0., 0., 0., 0.]])"
            ]
          },
          "metadata": {
            "tags": []
          },
          "execution_count": 100
        }
      ]
    },
    {
      "cell_type": "code",
      "metadata": {
        "colab": {
          "base_uri": "https://localhost:8080/"
        },
        "id": "NC52KCMSRcm8",
        "outputId": "d64770f0-a31a-45d0-ef49-f6303e7e9094"
      },
      "source": [
        "np.eye(8,4,k=1)"
      ],
      "execution_count": null,
      "outputs": [
        {
          "output_type": "execute_result",
          "data": {
            "text/plain": [
              "array([[0., 1., 0., 0.],\n",
              "       [0., 0., 1., 0.],\n",
              "       [0., 0., 0., 1.],\n",
              "       [0., 0., 0., 0.],\n",
              "       [0., 0., 0., 0.],\n",
              "       [0., 0., 0., 0.],\n",
              "       [0., 0., 0., 0.],\n",
              "       [0., 0., 0., 0.]])"
            ]
          },
          "metadata": {
            "tags": []
          },
          "execution_count": 101
        }
      ]
    },
    {
      "cell_type": "code",
      "metadata": {
        "colab": {
          "base_uri": "https://localhost:8080/"
        },
        "id": "x-uzVv1_RiOt",
        "outputId": "5b965e35-d259-442e-fb61-a148b45d01d5"
      },
      "source": [
        "np.eye(8,4,k=-3)"
      ],
      "execution_count": null,
      "outputs": [
        {
          "output_type": "execute_result",
          "data": {
            "text/plain": [
              "array([[0., 0., 0., 0.],\n",
              "       [0., 0., 0., 0.],\n",
              "       [0., 0., 0., 0.],\n",
              "       [1., 0., 0., 0.],\n",
              "       [0., 1., 0., 0.],\n",
              "       [0., 0., 1., 0.],\n",
              "       [0., 0., 0., 1.],\n",
              "       [0., 0., 0., 0.]])"
            ]
          },
          "metadata": {
            "tags": []
          },
          "execution_count": 102
        }
      ]
    },
    {
      "cell_type": "code",
      "metadata": {
        "id": "FEKCSOJjRmMY"
      },
      "source": [
        ""
      ],
      "execution_count": null,
      "outputs": []
    }
  ]
}